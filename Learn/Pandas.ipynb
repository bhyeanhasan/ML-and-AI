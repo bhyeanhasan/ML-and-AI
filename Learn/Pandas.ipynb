{
 "cells": [
  {
   "cell_type": "code",
   "execution_count": 47,
   "metadata": {
    "collapsed": true
   },
   "outputs": [],
   "source": [
    "import pandas as pb\n",
    "import pandas as pd"
   ]
  },
  {
   "cell_type": "code",
   "execution_count": 48,
   "outputs": [],
   "source": [
    "fruits_series = pd.Series(['apple','orange','grapes'])\n",
    "colors_series = pd.Series(['red','green','blue'])"
   ],
   "metadata": {
    "collapsed": false
   }
  },
  {
   "cell_type": "code",
   "execution_count": 49,
   "outputs": [
    {
     "name": "stdout",
     "output_type": "stream",
     "text": [
      "   fruits colors\n",
      "0   apple    red\n",
      "1  orange  green\n",
      "2  grapes   blue\n"
     ]
    }
   ],
   "source": [
    "dataframe = pd.DataFrame({'fruits':fruits_series,'colors':colors_series})\n",
    "print(dataframe)"
   ],
   "metadata": {
    "collapsed": false
   }
  },
  {
   "cell_type": "code",
   "execution_count": 50,
   "outputs": [
    {
     "data": {
      "text/plain": "      Date  Time  Chirps_15s   Temp_C\n0   21-Aug  2030      44.000  26.9440\n1   21-Aug  2100      46.400  25.8330\n2   21-Aug  2200      43.600  25.5560\n3   24-Aug  1945      35.000  23.0560\n4   24-Aug  2015      35.000  21.3890\n5   24-Aug  2100      32.600  20.0000\n6   24-Aug  2200      28.900  18.8890\n7   24-Aug  2230      27.700  18.3330\n8   25-Aug    30      25.500  16.3890\n9   25-Aug   330      20.375  13.8890\n10  25-Aug   500      12.500  12.7780\n11  25-Aug  2000      37.000  24.5830\n12  25-Aug  2030      37.500  23.3330\n13  25-Aug  2100      36.500  23.3330\n14  25-Aug  2200      36.200  22.5000\n15  26-Aug   530      33.000  18.8890\n16  26-Aug  2030      43.000  25.2780\n17  26-Aug  2200      46.000  25.8330\n18  27-Aug  2000      29.000  20.2780\n19  27-Aug  2030      31.700  20.2780\n20  27-Aug  2100      31.000  20.0000\n21  27-Aug  2200      28.750  18.8890\n22  28-Aug   240      23.500  15.0000\n23  28-Aug  2010      32.400  21.1110\n24  28-Aug  2050      31.000  20.5560\n25  28-Aug  2200      29.500  19.4440\n26  29-Aug   240      22.500  16.2500\n27  29-Aug   440      20.600  14.7220\n28  29-Aug  2000      35.000  22.2220\n29  29-Aug  2050      33.100  21.6670\n30  29-Aug  2200      31.500  20.5560\n31  29-Aug  2330      28.800  19.1670\n32  30-Aug   330      21.300  15.5560\n33  30-Aug  2000      37.800  23.8890\n34  30-Aug  2055      37.000  22.9170\n35  30-Aug  2200      37.100  22.5000\n36   1-Sep  2200      36.200  21.1110\n37   2-Sep   330      31.400  19.7220\n38   2-Sep   600      30.200  18.8890\n39   4-Sep   240      31.300  20.5560\n40   4-Sep   505      26.100  17.2220\n41   5-Sep   500      25.200  17.2220\n42   6-Sep   600      23.660  16.1110\n43   7-Sep   215      22.250  16.6670\n44   7-Sep   525      17.500  13.6110\n45   9-Sep  2010      15.500  12.7780\n46   9-Sep  2110      14.750  11.1110\n47  10-Sep  2115      15.000  11.6670\n48  10-Sep  2210      14.000  10.0000\n49  11-Sep   315      18.500  11.1110\n50  16-Sep  2100      27.700  18.3330\n51  17-Sep  2200      26.000  17.2220\n52  18-Sep   130      21.700  15.0000\n53  19-Sep   415      12.500  10.4170\n54  19-Sep   435      12.500   9.5833",
      "text/html": "<div>\n<style scoped>\n    .dataframe tbody tr th:only-of-type {\n        vertical-align: middle;\n    }\n\n    .dataframe tbody tr th {\n        vertical-align: top;\n    }\n\n    .dataframe thead th {\n        text-align: right;\n    }\n</style>\n<table border=\"1\" class=\"dataframe\">\n  <thead>\n    <tr style=\"text-align: right;\">\n      <th></th>\n      <th>Date</th>\n      <th>Time</th>\n      <th>Chirps_15s</th>\n      <th>Temp_C</th>\n    </tr>\n  </thead>\n  <tbody>\n    <tr>\n      <th>0</th>\n      <td>21-Aug</td>\n      <td>2030</td>\n      <td>44.000</td>\n      <td>26.9440</td>\n    </tr>\n    <tr>\n      <th>1</th>\n      <td>21-Aug</td>\n      <td>2100</td>\n      <td>46.400</td>\n      <td>25.8330</td>\n    </tr>\n    <tr>\n      <th>2</th>\n      <td>21-Aug</td>\n      <td>2200</td>\n      <td>43.600</td>\n      <td>25.5560</td>\n    </tr>\n    <tr>\n      <th>3</th>\n      <td>24-Aug</td>\n      <td>1945</td>\n      <td>35.000</td>\n      <td>23.0560</td>\n    </tr>\n    <tr>\n      <th>4</th>\n      <td>24-Aug</td>\n      <td>2015</td>\n      <td>35.000</td>\n      <td>21.3890</td>\n    </tr>\n    <tr>\n      <th>5</th>\n      <td>24-Aug</td>\n      <td>2100</td>\n      <td>32.600</td>\n      <td>20.0000</td>\n    </tr>\n    <tr>\n      <th>6</th>\n      <td>24-Aug</td>\n      <td>2200</td>\n      <td>28.900</td>\n      <td>18.8890</td>\n    </tr>\n    <tr>\n      <th>7</th>\n      <td>24-Aug</td>\n      <td>2230</td>\n      <td>27.700</td>\n      <td>18.3330</td>\n    </tr>\n    <tr>\n      <th>8</th>\n      <td>25-Aug</td>\n      <td>30</td>\n      <td>25.500</td>\n      <td>16.3890</td>\n    </tr>\n    <tr>\n      <th>9</th>\n      <td>25-Aug</td>\n      <td>330</td>\n      <td>20.375</td>\n      <td>13.8890</td>\n    </tr>\n    <tr>\n      <th>10</th>\n      <td>25-Aug</td>\n      <td>500</td>\n      <td>12.500</td>\n      <td>12.7780</td>\n    </tr>\n    <tr>\n      <th>11</th>\n      <td>25-Aug</td>\n      <td>2000</td>\n      <td>37.000</td>\n      <td>24.5830</td>\n    </tr>\n    <tr>\n      <th>12</th>\n      <td>25-Aug</td>\n      <td>2030</td>\n      <td>37.500</td>\n      <td>23.3330</td>\n    </tr>\n    <tr>\n      <th>13</th>\n      <td>25-Aug</td>\n      <td>2100</td>\n      <td>36.500</td>\n      <td>23.3330</td>\n    </tr>\n    <tr>\n      <th>14</th>\n      <td>25-Aug</td>\n      <td>2200</td>\n      <td>36.200</td>\n      <td>22.5000</td>\n    </tr>\n    <tr>\n      <th>15</th>\n      <td>26-Aug</td>\n      <td>530</td>\n      <td>33.000</td>\n      <td>18.8890</td>\n    </tr>\n    <tr>\n      <th>16</th>\n      <td>26-Aug</td>\n      <td>2030</td>\n      <td>43.000</td>\n      <td>25.2780</td>\n    </tr>\n    <tr>\n      <th>17</th>\n      <td>26-Aug</td>\n      <td>2200</td>\n      <td>46.000</td>\n      <td>25.8330</td>\n    </tr>\n    <tr>\n      <th>18</th>\n      <td>27-Aug</td>\n      <td>2000</td>\n      <td>29.000</td>\n      <td>20.2780</td>\n    </tr>\n    <tr>\n      <th>19</th>\n      <td>27-Aug</td>\n      <td>2030</td>\n      <td>31.700</td>\n      <td>20.2780</td>\n    </tr>\n    <tr>\n      <th>20</th>\n      <td>27-Aug</td>\n      <td>2100</td>\n      <td>31.000</td>\n      <td>20.0000</td>\n    </tr>\n    <tr>\n      <th>21</th>\n      <td>27-Aug</td>\n      <td>2200</td>\n      <td>28.750</td>\n      <td>18.8890</td>\n    </tr>\n    <tr>\n      <th>22</th>\n      <td>28-Aug</td>\n      <td>240</td>\n      <td>23.500</td>\n      <td>15.0000</td>\n    </tr>\n    <tr>\n      <th>23</th>\n      <td>28-Aug</td>\n      <td>2010</td>\n      <td>32.400</td>\n      <td>21.1110</td>\n    </tr>\n    <tr>\n      <th>24</th>\n      <td>28-Aug</td>\n      <td>2050</td>\n      <td>31.000</td>\n      <td>20.5560</td>\n    </tr>\n    <tr>\n      <th>25</th>\n      <td>28-Aug</td>\n      <td>2200</td>\n      <td>29.500</td>\n      <td>19.4440</td>\n    </tr>\n    <tr>\n      <th>26</th>\n      <td>29-Aug</td>\n      <td>240</td>\n      <td>22.500</td>\n      <td>16.2500</td>\n    </tr>\n    <tr>\n      <th>27</th>\n      <td>29-Aug</td>\n      <td>440</td>\n      <td>20.600</td>\n      <td>14.7220</td>\n    </tr>\n    <tr>\n      <th>28</th>\n      <td>29-Aug</td>\n      <td>2000</td>\n      <td>35.000</td>\n      <td>22.2220</td>\n    </tr>\n    <tr>\n      <th>29</th>\n      <td>29-Aug</td>\n      <td>2050</td>\n      <td>33.100</td>\n      <td>21.6670</td>\n    </tr>\n    <tr>\n      <th>30</th>\n      <td>29-Aug</td>\n      <td>2200</td>\n      <td>31.500</td>\n      <td>20.5560</td>\n    </tr>\n    <tr>\n      <th>31</th>\n      <td>29-Aug</td>\n      <td>2330</td>\n      <td>28.800</td>\n      <td>19.1670</td>\n    </tr>\n    <tr>\n      <th>32</th>\n      <td>30-Aug</td>\n      <td>330</td>\n      <td>21.300</td>\n      <td>15.5560</td>\n    </tr>\n    <tr>\n      <th>33</th>\n      <td>30-Aug</td>\n      <td>2000</td>\n      <td>37.800</td>\n      <td>23.8890</td>\n    </tr>\n    <tr>\n      <th>34</th>\n      <td>30-Aug</td>\n      <td>2055</td>\n      <td>37.000</td>\n      <td>22.9170</td>\n    </tr>\n    <tr>\n      <th>35</th>\n      <td>30-Aug</td>\n      <td>2200</td>\n      <td>37.100</td>\n      <td>22.5000</td>\n    </tr>\n    <tr>\n      <th>36</th>\n      <td>1-Sep</td>\n      <td>2200</td>\n      <td>36.200</td>\n      <td>21.1110</td>\n    </tr>\n    <tr>\n      <th>37</th>\n      <td>2-Sep</td>\n      <td>330</td>\n      <td>31.400</td>\n      <td>19.7220</td>\n    </tr>\n    <tr>\n      <th>38</th>\n      <td>2-Sep</td>\n      <td>600</td>\n      <td>30.200</td>\n      <td>18.8890</td>\n    </tr>\n    <tr>\n      <th>39</th>\n      <td>4-Sep</td>\n      <td>240</td>\n      <td>31.300</td>\n      <td>20.5560</td>\n    </tr>\n    <tr>\n      <th>40</th>\n      <td>4-Sep</td>\n      <td>505</td>\n      <td>26.100</td>\n      <td>17.2220</td>\n    </tr>\n    <tr>\n      <th>41</th>\n      <td>5-Sep</td>\n      <td>500</td>\n      <td>25.200</td>\n      <td>17.2220</td>\n    </tr>\n    <tr>\n      <th>42</th>\n      <td>6-Sep</td>\n      <td>600</td>\n      <td>23.660</td>\n      <td>16.1110</td>\n    </tr>\n    <tr>\n      <th>43</th>\n      <td>7-Sep</td>\n      <td>215</td>\n      <td>22.250</td>\n      <td>16.6670</td>\n    </tr>\n    <tr>\n      <th>44</th>\n      <td>7-Sep</td>\n      <td>525</td>\n      <td>17.500</td>\n      <td>13.6110</td>\n    </tr>\n    <tr>\n      <th>45</th>\n      <td>9-Sep</td>\n      <td>2010</td>\n      <td>15.500</td>\n      <td>12.7780</td>\n    </tr>\n    <tr>\n      <th>46</th>\n      <td>9-Sep</td>\n      <td>2110</td>\n      <td>14.750</td>\n      <td>11.1110</td>\n    </tr>\n    <tr>\n      <th>47</th>\n      <td>10-Sep</td>\n      <td>2115</td>\n      <td>15.000</td>\n      <td>11.6670</td>\n    </tr>\n    <tr>\n      <th>48</th>\n      <td>10-Sep</td>\n      <td>2210</td>\n      <td>14.000</td>\n      <td>10.0000</td>\n    </tr>\n    <tr>\n      <th>49</th>\n      <td>11-Sep</td>\n      <td>315</td>\n      <td>18.500</td>\n      <td>11.1110</td>\n    </tr>\n    <tr>\n      <th>50</th>\n      <td>16-Sep</td>\n      <td>2100</td>\n      <td>27.700</td>\n      <td>18.3330</td>\n    </tr>\n    <tr>\n      <th>51</th>\n      <td>17-Sep</td>\n      <td>2200</td>\n      <td>26.000</td>\n      <td>17.2220</td>\n    </tr>\n    <tr>\n      <th>52</th>\n      <td>18-Sep</td>\n      <td>130</td>\n      <td>21.700</td>\n      <td>15.0000</td>\n    </tr>\n    <tr>\n      <th>53</th>\n      <td>19-Sep</td>\n      <td>415</td>\n      <td>12.500</td>\n      <td>10.4170</td>\n    </tr>\n    <tr>\n      <th>54</th>\n      <td>19-Sep</td>\n      <td>435</td>\n      <td>12.500</td>\n      <td>9.5833</td>\n    </tr>\n  </tbody>\n</table>\n</div>"
     },
     "execution_count": 50,
     "metadata": {},
     "output_type": "execute_result"
    }
   ],
   "source": [
    "data = pd.read_csv('../Cricket/chirps.csv')\n",
    "data"
   ],
   "metadata": {
    "collapsed": false
   }
  },
  {
   "cell_type": "code",
   "execution_count": 51,
   "outputs": [
    {
     "data": {
      "text/plain": "RangeIndex(start=0, stop=55, step=1)"
     },
     "execution_count": 51,
     "metadata": {},
     "output_type": "execute_result"
    }
   ],
   "source": [
    "data.dtypes\n",
    "data.columns\n",
    "data.index"
   ],
   "metadata": {
    "collapsed": false
   }
  },
  {
   "cell_type": "code",
   "execution_count": 52,
   "outputs": [
    {
     "name": "stdout",
     "output_type": "stream",
     "text": [
      "<class 'pandas.core.frame.DataFrame'>\n",
      "RangeIndex: 55 entries, 0 to 54\n",
      "Data columns (total 4 columns):\n",
      " #   Column      Non-Null Count  Dtype  \n",
      "---  ------      --------------  -----  \n",
      " 0   Date        55 non-null     object \n",
      " 1   Time        55 non-null     int64  \n",
      " 2   Chirps_15s  55 non-null     float64\n",
      " 3   Temp_C      55 non-null     float64\n",
      "dtypes: float64(2), int64(1), object(1)\n",
      "memory usage: 1.8+ KB\n"
     ]
    }
   ],
   "source": [
    "data.describe()\n",
    "data.info()"
   ],
   "metadata": {
    "collapsed": false
   }
  },
  {
   "cell_type": "code",
   "execution_count": 53,
   "outputs": [
    {
     "data": {
      "text/plain": "      Date  Time  Chirps_15s   Temp_C\n45   9-Sep  2010       15.50  12.7780\n46   9-Sep  2110       14.75  11.1110\n47  10-Sep  2115       15.00  11.6670\n48  10-Sep  2210       14.00  10.0000\n49  11-Sep   315       18.50  11.1110\n50  16-Sep  2100       27.70  18.3330\n51  17-Sep  2200       26.00  17.2220\n52  18-Sep   130       21.70  15.0000\n53  19-Sep   415       12.50  10.4170\n54  19-Sep   435       12.50   9.5833",
      "text/html": "<div>\n<style scoped>\n    .dataframe tbody tr th:only-of-type {\n        vertical-align: middle;\n    }\n\n    .dataframe tbody tr th {\n        vertical-align: top;\n    }\n\n    .dataframe thead th {\n        text-align: right;\n    }\n</style>\n<table border=\"1\" class=\"dataframe\">\n  <thead>\n    <tr style=\"text-align: right;\">\n      <th></th>\n      <th>Date</th>\n      <th>Time</th>\n      <th>Chirps_15s</th>\n      <th>Temp_C</th>\n    </tr>\n  </thead>\n  <tbody>\n    <tr>\n      <th>45</th>\n      <td>9-Sep</td>\n      <td>2010</td>\n      <td>15.50</td>\n      <td>12.7780</td>\n    </tr>\n    <tr>\n      <th>46</th>\n      <td>9-Sep</td>\n      <td>2110</td>\n      <td>14.75</td>\n      <td>11.1110</td>\n    </tr>\n    <tr>\n      <th>47</th>\n      <td>10-Sep</td>\n      <td>2115</td>\n      <td>15.00</td>\n      <td>11.6670</td>\n    </tr>\n    <tr>\n      <th>48</th>\n      <td>10-Sep</td>\n      <td>2210</td>\n      <td>14.00</td>\n      <td>10.0000</td>\n    </tr>\n    <tr>\n      <th>49</th>\n      <td>11-Sep</td>\n      <td>315</td>\n      <td>18.50</td>\n      <td>11.1110</td>\n    </tr>\n    <tr>\n      <th>50</th>\n      <td>16-Sep</td>\n      <td>2100</td>\n      <td>27.70</td>\n      <td>18.3330</td>\n    </tr>\n    <tr>\n      <th>51</th>\n      <td>17-Sep</td>\n      <td>2200</td>\n      <td>26.00</td>\n      <td>17.2220</td>\n    </tr>\n    <tr>\n      <th>52</th>\n      <td>18-Sep</td>\n      <td>130</td>\n      <td>21.70</td>\n      <td>15.0000</td>\n    </tr>\n    <tr>\n      <th>53</th>\n      <td>19-Sep</td>\n      <td>415</td>\n      <td>12.50</td>\n      <td>10.4170</td>\n    </tr>\n    <tr>\n      <th>54</th>\n      <td>19-Sep</td>\n      <td>435</td>\n      <td>12.50</td>\n      <td>9.5833</td>\n    </tr>\n  </tbody>\n</table>\n</div>"
     },
     "execution_count": 53,
     "metadata": {},
     "output_type": "execute_result"
    }
   ],
   "source": [
    "data.head(20)\n",
    "data.tail(10)"
   ],
   "metadata": {
    "collapsed": false
   }
  },
  {
   "cell_type": "code",
   "execution_count": 57,
   "outputs": [
    {
     "data": {
      "text/plain": "Chirps_15s  12.500  14.000  14.750  15.000  15.500  17.500  18.500  20.375  \\\nTemp_C                                                                       \n9.5833           1       0       0       0       0       0       0       0   \n10.0000          0       1       0       0       0       0       0       0   \n10.4170          1       0       0       0       0       0       0       0   \n11.1110          0       0       1       0       0       0       1       0   \n11.6670          0       0       0       1       0       0       0       0   \n12.7780          1       0       0       0       1       0       0       0   \n13.6110          0       0       0       0       0       1       0       0   \n13.8890          0       0       0       0       0       0       0       1   \n14.7220          0       0       0       0       0       0       0       0   \n15.0000          0       0       0       0       0       0       0       0   \n15.5560          0       0       0       0       0       0       0       0   \n16.1110          0       0       0       0       0       0       0       0   \n16.2500          0       0       0       0       0       0       0       0   \n16.3890          0       0       0       0       0       0       0       0   \n16.6670          0       0       0       0       0       0       0       0   \n17.2220          0       0       0       0       0       0       0       0   \n18.3330          0       0       0       0       0       0       0       0   \n18.8890          0       0       0       0       0       0       0       0   \n19.1670          0       0       0       0       0       0       0       0   \n19.4440          0       0       0       0       0       0       0       0   \n19.7220          0       0       0       0       0       0       0       0   \n20.0000          0       0       0       0       0       0       0       0   \n20.2780          0       0       0       0       0       0       0       0   \n20.5560          0       0       0       0       0       0       0       0   \n21.1110          0       0       0       0       0       0       0       0   \n21.3890          0       0       0       0       0       0       0       0   \n21.6670          0       0       0       0       0       0       0       0   \n22.2220          0       0       0       0       0       0       0       0   \n22.5000          0       0       0       0       0       0       0       0   \n22.9170          0       0       0       0       0       0       0       0   \n23.0560          0       0       0       0       0       0       0       0   \n23.3330          0       0       0       0       0       0       0       0   \n23.8890          0       0       0       0       0       0       0       0   \n24.5830          0       0       0       0       0       0       0       0   \n25.2780          0       0       0       0       0       0       0       0   \n25.5560          0       0       0       0       0       0       0       0   \n25.8330          0       0       0       0       0       0       0       0   \n26.9440          0       0       0       0       0       0       0       0   \n\nChirps_15s  20.600  21.300  ...  36.500  37.000  37.100  37.500  37.800  \\\nTemp_C                      ...                                           \n9.5833           0       0  ...       0       0       0       0       0   \n10.0000          0       0  ...       0       0       0       0       0   \n10.4170          0       0  ...       0       0       0       0       0   \n11.1110          0       0  ...       0       0       0       0       0   \n11.6670          0       0  ...       0       0       0       0       0   \n12.7780          0       0  ...       0       0       0       0       0   \n13.6110          0       0  ...       0       0       0       0       0   \n13.8890          0       0  ...       0       0       0       0       0   \n14.7220          1       0  ...       0       0       0       0       0   \n15.0000          0       0  ...       0       0       0       0       0   \n15.5560          0       1  ...       0       0       0       0       0   \n16.1110          0       0  ...       0       0       0       0       0   \n16.2500          0       0  ...       0       0       0       0       0   \n16.3890          0       0  ...       0       0       0       0       0   \n16.6670          0       0  ...       0       0       0       0       0   \n17.2220          0       0  ...       0       0       0       0       0   \n18.3330          0       0  ...       0       0       0       0       0   \n18.8890          0       0  ...       0       0       0       0       0   \n19.1670          0       0  ...       0       0       0       0       0   \n19.4440          0       0  ...       0       0       0       0       0   \n19.7220          0       0  ...       0       0       0       0       0   \n20.0000          0       0  ...       0       0       0       0       0   \n20.2780          0       0  ...       0       0       0       0       0   \n20.5560          0       0  ...       0       0       0       0       0   \n21.1110          0       0  ...       0       0       0       0       0   \n21.3890          0       0  ...       0       0       0       0       0   \n21.6670          0       0  ...       0       0       0       0       0   \n22.2220          0       0  ...       0       0       0       0       0   \n22.5000          0       0  ...       0       0       1       0       0   \n22.9170          0       0  ...       0       1       0       0       0   \n23.0560          0       0  ...       0       0       0       0       0   \n23.3330          0       0  ...       1       0       0       1       0   \n23.8890          0       0  ...       0       0       0       0       1   \n24.5830          0       0  ...       0       1       0       0       0   \n25.2780          0       0  ...       0       0       0       0       0   \n25.5560          0       0  ...       0       0       0       0       0   \n25.8330          0       0  ...       0       0       0       0       0   \n26.9440          0       0  ...       0       0       0       0       0   \n\nChirps_15s  43.000  43.600  44.000  46.000  46.400  \nTemp_C                                              \n9.5833           0       0       0       0       0  \n10.0000          0       0       0       0       0  \n10.4170          0       0       0       0       0  \n11.1110          0       0       0       0       0  \n11.6670          0       0       0       0       0  \n12.7780          0       0       0       0       0  \n13.6110          0       0       0       0       0  \n13.8890          0       0       0       0       0  \n14.7220          0       0       0       0       0  \n15.0000          0       0       0       0       0  \n15.5560          0       0       0       0       0  \n16.1110          0       0       0       0       0  \n16.2500          0       0       0       0       0  \n16.3890          0       0       0       0       0  \n16.6670          0       0       0       0       0  \n17.2220          0       0       0       0       0  \n18.3330          0       0       0       0       0  \n18.8890          0       0       0       0       0  \n19.1670          0       0       0       0       0  \n19.4440          0       0       0       0       0  \n19.7220          0       0       0       0       0  \n20.0000          0       0       0       0       0  \n20.2780          0       0       0       0       0  \n20.5560          0       0       0       0       0  \n21.1110          0       0       0       0       0  \n21.3890          0       0       0       0       0  \n21.6670          0       0       0       0       0  \n22.2220          0       0       0       0       0  \n22.5000          0       0       0       0       0  \n22.9170          0       0       0       0       0  \n23.0560          0       0       0       0       0  \n23.3330          0       0       0       0       0  \n23.8890          0       0       0       0       0  \n24.5830          0       0       0       0       0  \n25.2780          1       0       0       0       0  \n25.5560          0       1       0       0       0  \n25.8330          0       0       0       1       1  \n26.9440          0       0       1       0       0  \n\n[38 rows x 47 columns]",
      "text/html": "<div>\n<style scoped>\n    .dataframe tbody tr th:only-of-type {\n        vertical-align: middle;\n    }\n\n    .dataframe tbody tr th {\n        vertical-align: top;\n    }\n\n    .dataframe thead th {\n        text-align: right;\n    }\n</style>\n<table border=\"1\" class=\"dataframe\">\n  <thead>\n    <tr style=\"text-align: right;\">\n      <th>Chirps_15s</th>\n      <th>12.500</th>\n      <th>14.000</th>\n      <th>14.750</th>\n      <th>15.000</th>\n      <th>15.500</th>\n      <th>17.500</th>\n      <th>18.500</th>\n      <th>20.375</th>\n      <th>20.600</th>\n      <th>21.300</th>\n      <th>...</th>\n      <th>36.500</th>\n      <th>37.000</th>\n      <th>37.100</th>\n      <th>37.500</th>\n      <th>37.800</th>\n      <th>43.000</th>\n      <th>43.600</th>\n      <th>44.000</th>\n      <th>46.000</th>\n      <th>46.400</th>\n    </tr>\n    <tr>\n      <th>Temp_C</th>\n      <th></th>\n      <th></th>\n      <th></th>\n      <th></th>\n      <th></th>\n      <th></th>\n      <th></th>\n      <th></th>\n      <th></th>\n      <th></th>\n      <th></th>\n      <th></th>\n      <th></th>\n      <th></th>\n      <th></th>\n      <th></th>\n      <th></th>\n      <th></th>\n      <th></th>\n      <th></th>\n      <th></th>\n    </tr>\n  </thead>\n  <tbody>\n    <tr>\n      <th>9.5833</th>\n      <td>1</td>\n      <td>0</td>\n      <td>0</td>\n      <td>0</td>\n      <td>0</td>\n      <td>0</td>\n      <td>0</td>\n      <td>0</td>\n      <td>0</td>\n      <td>0</td>\n      <td>...</td>\n      <td>0</td>\n      <td>0</td>\n      <td>0</td>\n      <td>0</td>\n      <td>0</td>\n      <td>0</td>\n      <td>0</td>\n      <td>0</td>\n      <td>0</td>\n      <td>0</td>\n    </tr>\n    <tr>\n      <th>10.0000</th>\n      <td>0</td>\n      <td>1</td>\n      <td>0</td>\n      <td>0</td>\n      <td>0</td>\n      <td>0</td>\n      <td>0</td>\n      <td>0</td>\n      <td>0</td>\n      <td>0</td>\n      <td>...</td>\n      <td>0</td>\n      <td>0</td>\n      <td>0</td>\n      <td>0</td>\n      <td>0</td>\n      <td>0</td>\n      <td>0</td>\n      <td>0</td>\n      <td>0</td>\n      <td>0</td>\n    </tr>\n    <tr>\n      <th>10.4170</th>\n      <td>1</td>\n      <td>0</td>\n      <td>0</td>\n      <td>0</td>\n      <td>0</td>\n      <td>0</td>\n      <td>0</td>\n      <td>0</td>\n      <td>0</td>\n      <td>0</td>\n      <td>...</td>\n      <td>0</td>\n      <td>0</td>\n      <td>0</td>\n      <td>0</td>\n      <td>0</td>\n      <td>0</td>\n      <td>0</td>\n      <td>0</td>\n      <td>0</td>\n      <td>0</td>\n    </tr>\n    <tr>\n      <th>11.1110</th>\n      <td>0</td>\n      <td>0</td>\n      <td>1</td>\n      <td>0</td>\n      <td>0</td>\n      <td>0</td>\n      <td>1</td>\n      <td>0</td>\n      <td>0</td>\n      <td>0</td>\n      <td>...</td>\n      <td>0</td>\n      <td>0</td>\n      <td>0</td>\n      <td>0</td>\n      <td>0</td>\n      <td>0</td>\n      <td>0</td>\n      <td>0</td>\n      <td>0</td>\n      <td>0</td>\n    </tr>\n    <tr>\n      <th>11.6670</th>\n      <td>0</td>\n      <td>0</td>\n      <td>0</td>\n      <td>1</td>\n      <td>0</td>\n      <td>0</td>\n      <td>0</td>\n      <td>0</td>\n      <td>0</td>\n      <td>0</td>\n      <td>...</td>\n      <td>0</td>\n      <td>0</td>\n      <td>0</td>\n      <td>0</td>\n      <td>0</td>\n      <td>0</td>\n      <td>0</td>\n      <td>0</td>\n      <td>0</td>\n      <td>0</td>\n    </tr>\n    <tr>\n      <th>12.7780</th>\n      <td>1</td>\n      <td>0</td>\n      <td>0</td>\n      <td>0</td>\n      <td>1</td>\n      <td>0</td>\n      <td>0</td>\n      <td>0</td>\n      <td>0</td>\n      <td>0</td>\n      <td>...</td>\n      <td>0</td>\n      <td>0</td>\n      <td>0</td>\n      <td>0</td>\n      <td>0</td>\n      <td>0</td>\n      <td>0</td>\n      <td>0</td>\n      <td>0</td>\n      <td>0</td>\n    </tr>\n    <tr>\n      <th>13.6110</th>\n      <td>0</td>\n      <td>0</td>\n      <td>0</td>\n      <td>0</td>\n      <td>0</td>\n      <td>1</td>\n      <td>0</td>\n      <td>0</td>\n      <td>0</td>\n      <td>0</td>\n      <td>...</td>\n      <td>0</td>\n      <td>0</td>\n      <td>0</td>\n      <td>0</td>\n      <td>0</td>\n      <td>0</td>\n      <td>0</td>\n      <td>0</td>\n      <td>0</td>\n      <td>0</td>\n    </tr>\n    <tr>\n      <th>13.8890</th>\n      <td>0</td>\n      <td>0</td>\n      <td>0</td>\n      <td>0</td>\n      <td>0</td>\n      <td>0</td>\n      <td>0</td>\n      <td>1</td>\n      <td>0</td>\n      <td>0</td>\n      <td>...</td>\n      <td>0</td>\n      <td>0</td>\n      <td>0</td>\n      <td>0</td>\n      <td>0</td>\n      <td>0</td>\n      <td>0</td>\n      <td>0</td>\n      <td>0</td>\n      <td>0</td>\n    </tr>\n    <tr>\n      <th>14.7220</th>\n      <td>0</td>\n      <td>0</td>\n      <td>0</td>\n      <td>0</td>\n      <td>0</td>\n      <td>0</td>\n      <td>0</td>\n      <td>0</td>\n      <td>1</td>\n      <td>0</td>\n      <td>...</td>\n      <td>0</td>\n      <td>0</td>\n      <td>0</td>\n      <td>0</td>\n      <td>0</td>\n      <td>0</td>\n      <td>0</td>\n      <td>0</td>\n      <td>0</td>\n      <td>0</td>\n    </tr>\n    <tr>\n      <th>15.0000</th>\n      <td>0</td>\n      <td>0</td>\n      <td>0</td>\n      <td>0</td>\n      <td>0</td>\n      <td>0</td>\n      <td>0</td>\n      <td>0</td>\n      <td>0</td>\n      <td>0</td>\n      <td>...</td>\n      <td>0</td>\n      <td>0</td>\n      <td>0</td>\n      <td>0</td>\n      <td>0</td>\n      <td>0</td>\n      <td>0</td>\n      <td>0</td>\n      <td>0</td>\n      <td>0</td>\n    </tr>\n    <tr>\n      <th>15.5560</th>\n      <td>0</td>\n      <td>0</td>\n      <td>0</td>\n      <td>0</td>\n      <td>0</td>\n      <td>0</td>\n      <td>0</td>\n      <td>0</td>\n      <td>0</td>\n      <td>1</td>\n      <td>...</td>\n      <td>0</td>\n      <td>0</td>\n      <td>0</td>\n      <td>0</td>\n      <td>0</td>\n      <td>0</td>\n      <td>0</td>\n      <td>0</td>\n      <td>0</td>\n      <td>0</td>\n    </tr>\n    <tr>\n      <th>16.1110</th>\n      <td>0</td>\n      <td>0</td>\n      <td>0</td>\n      <td>0</td>\n      <td>0</td>\n      <td>0</td>\n      <td>0</td>\n      <td>0</td>\n      <td>0</td>\n      <td>0</td>\n      <td>...</td>\n      <td>0</td>\n      <td>0</td>\n      <td>0</td>\n      <td>0</td>\n      <td>0</td>\n      <td>0</td>\n      <td>0</td>\n      <td>0</td>\n      <td>0</td>\n      <td>0</td>\n    </tr>\n    <tr>\n      <th>16.2500</th>\n      <td>0</td>\n      <td>0</td>\n      <td>0</td>\n      <td>0</td>\n      <td>0</td>\n      <td>0</td>\n      <td>0</td>\n      <td>0</td>\n      <td>0</td>\n      <td>0</td>\n      <td>...</td>\n      <td>0</td>\n      <td>0</td>\n      <td>0</td>\n      <td>0</td>\n      <td>0</td>\n      <td>0</td>\n      <td>0</td>\n      <td>0</td>\n      <td>0</td>\n      <td>0</td>\n    </tr>\n    <tr>\n      <th>16.3890</th>\n      <td>0</td>\n      <td>0</td>\n      <td>0</td>\n      <td>0</td>\n      <td>0</td>\n      <td>0</td>\n      <td>0</td>\n      <td>0</td>\n      <td>0</td>\n      <td>0</td>\n      <td>...</td>\n      <td>0</td>\n      <td>0</td>\n      <td>0</td>\n      <td>0</td>\n      <td>0</td>\n      <td>0</td>\n      <td>0</td>\n      <td>0</td>\n      <td>0</td>\n      <td>0</td>\n    </tr>\n    <tr>\n      <th>16.6670</th>\n      <td>0</td>\n      <td>0</td>\n      <td>0</td>\n      <td>0</td>\n      <td>0</td>\n      <td>0</td>\n      <td>0</td>\n      <td>0</td>\n      <td>0</td>\n      <td>0</td>\n      <td>...</td>\n      <td>0</td>\n      <td>0</td>\n      <td>0</td>\n      <td>0</td>\n      <td>0</td>\n      <td>0</td>\n      <td>0</td>\n      <td>0</td>\n      <td>0</td>\n      <td>0</td>\n    </tr>\n    <tr>\n      <th>17.2220</th>\n      <td>0</td>\n      <td>0</td>\n      <td>0</td>\n      <td>0</td>\n      <td>0</td>\n      <td>0</td>\n      <td>0</td>\n      <td>0</td>\n      <td>0</td>\n      <td>0</td>\n      <td>...</td>\n      <td>0</td>\n      <td>0</td>\n      <td>0</td>\n      <td>0</td>\n      <td>0</td>\n      <td>0</td>\n      <td>0</td>\n      <td>0</td>\n      <td>0</td>\n      <td>0</td>\n    </tr>\n    <tr>\n      <th>18.3330</th>\n      <td>0</td>\n      <td>0</td>\n      <td>0</td>\n      <td>0</td>\n      <td>0</td>\n      <td>0</td>\n      <td>0</td>\n      <td>0</td>\n      <td>0</td>\n      <td>0</td>\n      <td>...</td>\n      <td>0</td>\n      <td>0</td>\n      <td>0</td>\n      <td>0</td>\n      <td>0</td>\n      <td>0</td>\n      <td>0</td>\n      <td>0</td>\n      <td>0</td>\n      <td>0</td>\n    </tr>\n    <tr>\n      <th>18.8890</th>\n      <td>0</td>\n      <td>0</td>\n      <td>0</td>\n      <td>0</td>\n      <td>0</td>\n      <td>0</td>\n      <td>0</td>\n      <td>0</td>\n      <td>0</td>\n      <td>0</td>\n      <td>...</td>\n      <td>0</td>\n      <td>0</td>\n      <td>0</td>\n      <td>0</td>\n      <td>0</td>\n      <td>0</td>\n      <td>0</td>\n      <td>0</td>\n      <td>0</td>\n      <td>0</td>\n    </tr>\n    <tr>\n      <th>19.1670</th>\n      <td>0</td>\n      <td>0</td>\n      <td>0</td>\n      <td>0</td>\n      <td>0</td>\n      <td>0</td>\n      <td>0</td>\n      <td>0</td>\n      <td>0</td>\n      <td>0</td>\n      <td>...</td>\n      <td>0</td>\n      <td>0</td>\n      <td>0</td>\n      <td>0</td>\n      <td>0</td>\n      <td>0</td>\n      <td>0</td>\n      <td>0</td>\n      <td>0</td>\n      <td>0</td>\n    </tr>\n    <tr>\n      <th>19.4440</th>\n      <td>0</td>\n      <td>0</td>\n      <td>0</td>\n      <td>0</td>\n      <td>0</td>\n      <td>0</td>\n      <td>0</td>\n      <td>0</td>\n      <td>0</td>\n      <td>0</td>\n      <td>...</td>\n      <td>0</td>\n      <td>0</td>\n      <td>0</td>\n      <td>0</td>\n      <td>0</td>\n      <td>0</td>\n      <td>0</td>\n      <td>0</td>\n      <td>0</td>\n      <td>0</td>\n    </tr>\n    <tr>\n      <th>19.7220</th>\n      <td>0</td>\n      <td>0</td>\n      <td>0</td>\n      <td>0</td>\n      <td>0</td>\n      <td>0</td>\n      <td>0</td>\n      <td>0</td>\n      <td>0</td>\n      <td>0</td>\n      <td>...</td>\n      <td>0</td>\n      <td>0</td>\n      <td>0</td>\n      <td>0</td>\n      <td>0</td>\n      <td>0</td>\n      <td>0</td>\n      <td>0</td>\n      <td>0</td>\n      <td>0</td>\n    </tr>\n    <tr>\n      <th>20.0000</th>\n      <td>0</td>\n      <td>0</td>\n      <td>0</td>\n      <td>0</td>\n      <td>0</td>\n      <td>0</td>\n      <td>0</td>\n      <td>0</td>\n      <td>0</td>\n      <td>0</td>\n      <td>...</td>\n      <td>0</td>\n      <td>0</td>\n      <td>0</td>\n      <td>0</td>\n      <td>0</td>\n      <td>0</td>\n      <td>0</td>\n      <td>0</td>\n      <td>0</td>\n      <td>0</td>\n    </tr>\n    <tr>\n      <th>20.2780</th>\n      <td>0</td>\n      <td>0</td>\n      <td>0</td>\n      <td>0</td>\n      <td>0</td>\n      <td>0</td>\n      <td>0</td>\n      <td>0</td>\n      <td>0</td>\n      <td>0</td>\n      <td>...</td>\n      <td>0</td>\n      <td>0</td>\n      <td>0</td>\n      <td>0</td>\n      <td>0</td>\n      <td>0</td>\n      <td>0</td>\n      <td>0</td>\n      <td>0</td>\n      <td>0</td>\n    </tr>\n    <tr>\n      <th>20.5560</th>\n      <td>0</td>\n      <td>0</td>\n      <td>0</td>\n      <td>0</td>\n      <td>0</td>\n      <td>0</td>\n      <td>0</td>\n      <td>0</td>\n      <td>0</td>\n      <td>0</td>\n      <td>...</td>\n      <td>0</td>\n      <td>0</td>\n      <td>0</td>\n      <td>0</td>\n      <td>0</td>\n      <td>0</td>\n      <td>0</td>\n      <td>0</td>\n      <td>0</td>\n      <td>0</td>\n    </tr>\n    <tr>\n      <th>21.1110</th>\n      <td>0</td>\n      <td>0</td>\n      <td>0</td>\n      <td>0</td>\n      <td>0</td>\n      <td>0</td>\n      <td>0</td>\n      <td>0</td>\n      <td>0</td>\n      <td>0</td>\n      <td>...</td>\n      <td>0</td>\n      <td>0</td>\n      <td>0</td>\n      <td>0</td>\n      <td>0</td>\n      <td>0</td>\n      <td>0</td>\n      <td>0</td>\n      <td>0</td>\n      <td>0</td>\n    </tr>\n    <tr>\n      <th>21.3890</th>\n      <td>0</td>\n      <td>0</td>\n      <td>0</td>\n      <td>0</td>\n      <td>0</td>\n      <td>0</td>\n      <td>0</td>\n      <td>0</td>\n      <td>0</td>\n      <td>0</td>\n      <td>...</td>\n      <td>0</td>\n      <td>0</td>\n      <td>0</td>\n      <td>0</td>\n      <td>0</td>\n      <td>0</td>\n      <td>0</td>\n      <td>0</td>\n      <td>0</td>\n      <td>0</td>\n    </tr>\n    <tr>\n      <th>21.6670</th>\n      <td>0</td>\n      <td>0</td>\n      <td>0</td>\n      <td>0</td>\n      <td>0</td>\n      <td>0</td>\n      <td>0</td>\n      <td>0</td>\n      <td>0</td>\n      <td>0</td>\n      <td>...</td>\n      <td>0</td>\n      <td>0</td>\n      <td>0</td>\n      <td>0</td>\n      <td>0</td>\n      <td>0</td>\n      <td>0</td>\n      <td>0</td>\n      <td>0</td>\n      <td>0</td>\n    </tr>\n    <tr>\n      <th>22.2220</th>\n      <td>0</td>\n      <td>0</td>\n      <td>0</td>\n      <td>0</td>\n      <td>0</td>\n      <td>0</td>\n      <td>0</td>\n      <td>0</td>\n      <td>0</td>\n      <td>0</td>\n      <td>...</td>\n      <td>0</td>\n      <td>0</td>\n      <td>0</td>\n      <td>0</td>\n      <td>0</td>\n      <td>0</td>\n      <td>0</td>\n      <td>0</td>\n      <td>0</td>\n      <td>0</td>\n    </tr>\n    <tr>\n      <th>22.5000</th>\n      <td>0</td>\n      <td>0</td>\n      <td>0</td>\n      <td>0</td>\n      <td>0</td>\n      <td>0</td>\n      <td>0</td>\n      <td>0</td>\n      <td>0</td>\n      <td>0</td>\n      <td>...</td>\n      <td>0</td>\n      <td>0</td>\n      <td>1</td>\n      <td>0</td>\n      <td>0</td>\n      <td>0</td>\n      <td>0</td>\n      <td>0</td>\n      <td>0</td>\n      <td>0</td>\n    </tr>\n    <tr>\n      <th>22.9170</th>\n      <td>0</td>\n      <td>0</td>\n      <td>0</td>\n      <td>0</td>\n      <td>0</td>\n      <td>0</td>\n      <td>0</td>\n      <td>0</td>\n      <td>0</td>\n      <td>0</td>\n      <td>...</td>\n      <td>0</td>\n      <td>1</td>\n      <td>0</td>\n      <td>0</td>\n      <td>0</td>\n      <td>0</td>\n      <td>0</td>\n      <td>0</td>\n      <td>0</td>\n      <td>0</td>\n    </tr>\n    <tr>\n      <th>23.0560</th>\n      <td>0</td>\n      <td>0</td>\n      <td>0</td>\n      <td>0</td>\n      <td>0</td>\n      <td>0</td>\n      <td>0</td>\n      <td>0</td>\n      <td>0</td>\n      <td>0</td>\n      <td>...</td>\n      <td>0</td>\n      <td>0</td>\n      <td>0</td>\n      <td>0</td>\n      <td>0</td>\n      <td>0</td>\n      <td>0</td>\n      <td>0</td>\n      <td>0</td>\n      <td>0</td>\n    </tr>\n    <tr>\n      <th>23.3330</th>\n      <td>0</td>\n      <td>0</td>\n      <td>0</td>\n      <td>0</td>\n      <td>0</td>\n      <td>0</td>\n      <td>0</td>\n      <td>0</td>\n      <td>0</td>\n      <td>0</td>\n      <td>...</td>\n      <td>1</td>\n      <td>0</td>\n      <td>0</td>\n      <td>1</td>\n      <td>0</td>\n      <td>0</td>\n      <td>0</td>\n      <td>0</td>\n      <td>0</td>\n      <td>0</td>\n    </tr>\n    <tr>\n      <th>23.8890</th>\n      <td>0</td>\n      <td>0</td>\n      <td>0</td>\n      <td>0</td>\n      <td>0</td>\n      <td>0</td>\n      <td>0</td>\n      <td>0</td>\n      <td>0</td>\n      <td>0</td>\n      <td>...</td>\n      <td>0</td>\n      <td>0</td>\n      <td>0</td>\n      <td>0</td>\n      <td>1</td>\n      <td>0</td>\n      <td>0</td>\n      <td>0</td>\n      <td>0</td>\n      <td>0</td>\n    </tr>\n    <tr>\n      <th>24.5830</th>\n      <td>0</td>\n      <td>0</td>\n      <td>0</td>\n      <td>0</td>\n      <td>0</td>\n      <td>0</td>\n      <td>0</td>\n      <td>0</td>\n      <td>0</td>\n      <td>0</td>\n      <td>...</td>\n      <td>0</td>\n      <td>1</td>\n      <td>0</td>\n      <td>0</td>\n      <td>0</td>\n      <td>0</td>\n      <td>0</td>\n      <td>0</td>\n      <td>0</td>\n      <td>0</td>\n    </tr>\n    <tr>\n      <th>25.2780</th>\n      <td>0</td>\n      <td>0</td>\n      <td>0</td>\n      <td>0</td>\n      <td>0</td>\n      <td>0</td>\n      <td>0</td>\n      <td>0</td>\n      <td>0</td>\n      <td>0</td>\n      <td>...</td>\n      <td>0</td>\n      <td>0</td>\n      <td>0</td>\n      <td>0</td>\n      <td>0</td>\n      <td>1</td>\n      <td>0</td>\n      <td>0</td>\n      <td>0</td>\n      <td>0</td>\n    </tr>\n    <tr>\n      <th>25.5560</th>\n      <td>0</td>\n      <td>0</td>\n      <td>0</td>\n      <td>0</td>\n      <td>0</td>\n      <td>0</td>\n      <td>0</td>\n      <td>0</td>\n      <td>0</td>\n      <td>0</td>\n      <td>...</td>\n      <td>0</td>\n      <td>0</td>\n      <td>0</td>\n      <td>0</td>\n      <td>0</td>\n      <td>0</td>\n      <td>1</td>\n      <td>0</td>\n      <td>0</td>\n      <td>0</td>\n    </tr>\n    <tr>\n      <th>25.8330</th>\n      <td>0</td>\n      <td>0</td>\n      <td>0</td>\n      <td>0</td>\n      <td>0</td>\n      <td>0</td>\n      <td>0</td>\n      <td>0</td>\n      <td>0</td>\n      <td>0</td>\n      <td>...</td>\n      <td>0</td>\n      <td>0</td>\n      <td>0</td>\n      <td>0</td>\n      <td>0</td>\n      <td>0</td>\n      <td>0</td>\n      <td>0</td>\n      <td>1</td>\n      <td>1</td>\n    </tr>\n    <tr>\n      <th>26.9440</th>\n      <td>0</td>\n      <td>0</td>\n      <td>0</td>\n      <td>0</td>\n      <td>0</td>\n      <td>0</td>\n      <td>0</td>\n      <td>0</td>\n      <td>0</td>\n      <td>0</td>\n      <td>...</td>\n      <td>0</td>\n      <td>0</td>\n      <td>0</td>\n      <td>0</td>\n      <td>0</td>\n      <td>0</td>\n      <td>0</td>\n      <td>1</td>\n      <td>0</td>\n      <td>0</td>\n    </tr>\n  </tbody>\n</table>\n<p>38 rows × 47 columns</p>\n</div>"
     },
     "execution_count": 57,
     "metadata": {},
     "output_type": "execute_result"
    }
   ],
   "source": [
    "data[data['Temp_C'] > 25]\n",
    "pd.crosstab(data.Temp_C,data.Chirps_15s)"
   ],
   "metadata": {
    "collapsed": false
   }
  },
  {
   "cell_type": "code",
   "execution_count": 58,
   "outputs": [
    {
     "data": {
      "text/plain": "      Date  Time  Chirps_15s  Temp_C\n0   21-Aug  2030        44.0  26.944\n1   21-Aug  2100        46.4  25.833\n2   21-Aug  2200        43.6  25.556\n16  26-Aug  2030        43.0  25.278\n17  26-Aug  2200        46.0  25.833",
      "text/html": "<div>\n<style scoped>\n    .dataframe tbody tr th:only-of-type {\n        vertical-align: middle;\n    }\n\n    .dataframe tbody tr th {\n        vertical-align: top;\n    }\n\n    .dataframe thead th {\n        text-align: right;\n    }\n</style>\n<table border=\"1\" class=\"dataframe\">\n  <thead>\n    <tr style=\"text-align: right;\">\n      <th></th>\n      <th>Date</th>\n      <th>Time</th>\n      <th>Chirps_15s</th>\n      <th>Temp_C</th>\n    </tr>\n  </thead>\n  <tbody>\n    <tr>\n      <th>0</th>\n      <td>21-Aug</td>\n      <td>2030</td>\n      <td>44.0</td>\n      <td>26.944</td>\n    </tr>\n    <tr>\n      <th>1</th>\n      <td>21-Aug</td>\n      <td>2100</td>\n      <td>46.4</td>\n      <td>25.833</td>\n    </tr>\n    <tr>\n      <th>2</th>\n      <td>21-Aug</td>\n      <td>2200</td>\n      <td>43.6</td>\n      <td>25.556</td>\n    </tr>\n    <tr>\n      <th>16</th>\n      <td>26-Aug</td>\n      <td>2030</td>\n      <td>43.0</td>\n      <td>25.278</td>\n    </tr>\n    <tr>\n      <th>17</th>\n      <td>26-Aug</td>\n      <td>2200</td>\n      <td>46.0</td>\n      <td>25.833</td>\n    </tr>\n  </tbody>\n</table>\n</div>"
     },
     "execution_count": 58,
     "metadata": {},
     "output_type": "execute_result"
    }
   ],
   "source": [
    "vip = data[data.Temp_C > 25]\n",
    "vip\n"
   ],
   "metadata": {
    "collapsed": false
   }
  },
  {
   "cell_type": "code",
   "execution_count": null,
   "outputs": [],
   "source": [
    "data.groupby(['Temp_C']).mean()\n",
    "data.groupby(['Temp_C']).plot()\n",
    "data.groupby(['Temp_C']).hist()\n"
   ],
   "metadata": {
    "collapsed": false,
    "pycharm": {
     "is_executing": true
    }
   }
  },
  {
   "cell_type": "code",
   "execution_count": 67,
   "outputs": [
    {
     "data": {
      "text/plain": "     PassengerId  Survived  Pclass  \\\n0              1         0       3   \n1              2         1       1   \n2              3         1       3   \n3              4         1       1   \n4              5         0       3   \n..           ...       ...     ...   \n886          887         0       2   \n887          888         1       1   \n888          889         0       3   \n889          890         1       1   \n890          891         0       3   \n\n                                                  Name     Sex   Age  SibSp  \\\n0                              Braund, Mr. Owen Harris    male  22.0      1   \n1    Cumings, Mrs. John Bradley (Florence Briggs Th...  female  38.0      1   \n2                               Heikkinen, Miss. Laina  female  26.0      0   \n3         Futrelle, Mrs. Jacques Heath (Lily May Peel)  female  35.0      1   \n4                             Allen, Mr. William Henry    male  35.0      0   \n..                                                 ...     ...   ...    ...   \n886                              Montvila, Rev. Juozas    male  27.0      0   \n887                       Graham, Miss. Margaret Edith  female  19.0      0   \n888           Johnston, Miss. Catherine Helen \"Carrie\"  female   NaN      1   \n889                              Behr, Mr. Karl Howell    male  26.0      0   \n890                                Dooley, Mr. Patrick    male  32.0      0   \n\n     Parch            Ticket     Fare Cabin Embarked  \n0        0         A/5 21171   7.2500   NaN        S  \n1        0          PC 17599  71.2833   C85        C  \n2        0  STON/O2. 3101282   7.9250   NaN        S  \n3        0            113803  53.1000  C123        S  \n4        0            373450   8.0500   NaN        S  \n..     ...               ...      ...   ...      ...  \n886      0            211536  13.0000   NaN        S  \n887      0            112053  30.0000   B42        S  \n888      2        W./C. 6607  23.4500   NaN        S  \n889      0            111369  30.0000  C148        C  \n890      0            370376   7.7500   NaN        Q  \n\n[891 rows x 12 columns]",
      "text/html": "<div>\n<style scoped>\n    .dataframe tbody tr th:only-of-type {\n        vertical-align: middle;\n    }\n\n    .dataframe tbody tr th {\n        vertical-align: top;\n    }\n\n    .dataframe thead th {\n        text-align: right;\n    }\n</style>\n<table border=\"1\" class=\"dataframe\">\n  <thead>\n    <tr style=\"text-align: right;\">\n      <th></th>\n      <th>PassengerId</th>\n      <th>Survived</th>\n      <th>Pclass</th>\n      <th>Name</th>\n      <th>Sex</th>\n      <th>Age</th>\n      <th>SibSp</th>\n      <th>Parch</th>\n      <th>Ticket</th>\n      <th>Fare</th>\n      <th>Cabin</th>\n      <th>Embarked</th>\n    </tr>\n  </thead>\n  <tbody>\n    <tr>\n      <th>0</th>\n      <td>1</td>\n      <td>0</td>\n      <td>3</td>\n      <td>Braund, Mr. Owen Harris</td>\n      <td>male</td>\n      <td>22.0</td>\n      <td>1</td>\n      <td>0</td>\n      <td>A/5 21171</td>\n      <td>7.2500</td>\n      <td>NaN</td>\n      <td>S</td>\n    </tr>\n    <tr>\n      <th>1</th>\n      <td>2</td>\n      <td>1</td>\n      <td>1</td>\n      <td>Cumings, Mrs. John Bradley (Florence Briggs Th...</td>\n      <td>female</td>\n      <td>38.0</td>\n      <td>1</td>\n      <td>0</td>\n      <td>PC 17599</td>\n      <td>71.2833</td>\n      <td>C85</td>\n      <td>C</td>\n    </tr>\n    <tr>\n      <th>2</th>\n      <td>3</td>\n      <td>1</td>\n      <td>3</td>\n      <td>Heikkinen, Miss. Laina</td>\n      <td>female</td>\n      <td>26.0</td>\n      <td>0</td>\n      <td>0</td>\n      <td>STON/O2. 3101282</td>\n      <td>7.9250</td>\n      <td>NaN</td>\n      <td>S</td>\n    </tr>\n    <tr>\n      <th>3</th>\n      <td>4</td>\n      <td>1</td>\n      <td>1</td>\n      <td>Futrelle, Mrs. Jacques Heath (Lily May Peel)</td>\n      <td>female</td>\n      <td>35.0</td>\n      <td>1</td>\n      <td>0</td>\n      <td>113803</td>\n      <td>53.1000</td>\n      <td>C123</td>\n      <td>S</td>\n    </tr>\n    <tr>\n      <th>4</th>\n      <td>5</td>\n      <td>0</td>\n      <td>3</td>\n      <td>Allen, Mr. William Henry</td>\n      <td>male</td>\n      <td>35.0</td>\n      <td>0</td>\n      <td>0</td>\n      <td>373450</td>\n      <td>8.0500</td>\n      <td>NaN</td>\n      <td>S</td>\n    </tr>\n    <tr>\n      <th>...</th>\n      <td>...</td>\n      <td>...</td>\n      <td>...</td>\n      <td>...</td>\n      <td>...</td>\n      <td>...</td>\n      <td>...</td>\n      <td>...</td>\n      <td>...</td>\n      <td>...</td>\n      <td>...</td>\n      <td>...</td>\n    </tr>\n    <tr>\n      <th>886</th>\n      <td>887</td>\n      <td>0</td>\n      <td>2</td>\n      <td>Montvila, Rev. Juozas</td>\n      <td>male</td>\n      <td>27.0</td>\n      <td>0</td>\n      <td>0</td>\n      <td>211536</td>\n      <td>13.0000</td>\n      <td>NaN</td>\n      <td>S</td>\n    </tr>\n    <tr>\n      <th>887</th>\n      <td>888</td>\n      <td>1</td>\n      <td>1</td>\n      <td>Graham, Miss. Margaret Edith</td>\n      <td>female</td>\n      <td>19.0</td>\n      <td>0</td>\n      <td>0</td>\n      <td>112053</td>\n      <td>30.0000</td>\n      <td>B42</td>\n      <td>S</td>\n    </tr>\n    <tr>\n      <th>888</th>\n      <td>889</td>\n      <td>0</td>\n      <td>3</td>\n      <td>Johnston, Miss. Catherine Helen \"Carrie\"</td>\n      <td>female</td>\n      <td>NaN</td>\n      <td>1</td>\n      <td>2</td>\n      <td>W./C. 6607</td>\n      <td>23.4500</td>\n      <td>NaN</td>\n      <td>S</td>\n    </tr>\n    <tr>\n      <th>889</th>\n      <td>890</td>\n      <td>1</td>\n      <td>1</td>\n      <td>Behr, Mr. Karl Howell</td>\n      <td>male</td>\n      <td>26.0</td>\n      <td>0</td>\n      <td>0</td>\n      <td>111369</td>\n      <td>30.0000</td>\n      <td>C148</td>\n      <td>C</td>\n    </tr>\n    <tr>\n      <th>890</th>\n      <td>891</td>\n      <td>0</td>\n      <td>3</td>\n      <td>Dooley, Mr. Patrick</td>\n      <td>male</td>\n      <td>32.0</td>\n      <td>0</td>\n      <td>0</td>\n      <td>370376</td>\n      <td>7.7500</td>\n      <td>NaN</td>\n      <td>Q</td>\n    </tr>\n  </tbody>\n</table>\n<p>891 rows × 12 columns</p>\n</div>"
     },
     "execution_count": 67,
     "metadata": {},
     "output_type": "execute_result"
    }
   ],
   "source": [
    "titanic = pd.read_csv('../titanic/train.csv')\n",
    "titanic"
   ],
   "metadata": {
    "collapsed": false
   }
  },
  {
   "cell_type": "code",
   "execution_count": 68,
   "outputs": [
    {
     "data": {
      "text/plain": "0                                braund, mr. owen harris\n1      cumings, mrs. john bradley (florence briggs th...\n2                                 heikkinen, miss. laina\n3           futrelle, mrs. jacques heath (lily may peel)\n4                               allen, mr. william henry\n                             ...                        \n886                                montvila, rev. juozas\n887                         graham, miss. margaret edith\n888             johnston, miss. catherine helen \"carrie\"\n889                                behr, mr. karl howell\n890                                  dooley, mr. patrick\nName: Name, Length: 891, dtype: object"
     },
     "execution_count": 68,
     "metadata": {},
     "output_type": "execute_result"
    }
   ],
   "source": [
    "titanic['Name'].str.lower()"
   ],
   "metadata": {
    "collapsed": false
   }
  },
  {
   "cell_type": "code",
   "execution_count": null,
   "outputs": [],
   "source": [],
   "metadata": {
    "collapsed": false
   }
  }
 ],
 "metadata": {
  "kernelspec": {
   "display_name": "Python 3",
   "language": "python",
   "name": "python3"
  },
  "language_info": {
   "codemirror_mode": {
    "name": "ipython",
    "version": 2
   },
   "file_extension": ".py",
   "mimetype": "text/x-python",
   "name": "python",
   "nbconvert_exporter": "python",
   "pygments_lexer": "ipython2",
   "version": "2.7.6"
  }
 },
 "nbformat": 4,
 "nbformat_minor": 0
}
