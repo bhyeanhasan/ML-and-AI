{
 "cells": [
  {
   "cell_type": "code",
   "execution_count": 2,
   "metadata": {
    "collapsed": true,
    "ExecuteTime": {
     "end_time": "2023-09-02T09:49:51.014239100Z",
     "start_time": "2023-09-02T09:49:50.996935900Z"
    }
   },
   "outputs": [],
   "source": [
    "import matplotlib.pyplot as plt\n",
    "import pandas as pd\n",
    "import seaborn as sns\n",
    "import numpy as np"
   ]
  },
  {
   "cell_type": "code",
   "execution_count": null,
   "outputs": [],
   "source": [
    "second = pd.read_excel(\"2nd Result.xlsx\")\n",
    "second = second[[ 'Roll',  'Student Name','GPA', 'CGPA']]\n",
    "second = second.dropna()\n",
    "second"
   ],
   "metadata": {
    "collapsed": false
   }
  },
  {
   "cell_type": "code",
   "execution_count": null,
   "outputs": [],
   "source": [
    "third = pd.read_excel(\"3rd Result.xlsx\")\n",
    "third = third[['STUDENT NAME',  'Roll', 'GPA',  'CGPA']]\n",
    "third"
   ],
   "metadata": {
    "collapsed": false
   }
  },
  {
   "cell_type": "code",
   "execution_count": null,
   "outputs": [],
   "source": [
    "fourth = pd.read_excel(\"4th Result.xlsx\")\n",
    "fourth = fourth[['Roll', 'Student Name', 'GPA']]\n",
    "fourth"
   ],
   "metadata": {
    "collapsed": false
   }
  },
  {
   "cell_type": "code",
   "execution_count": null,
   "outputs": [],
   "source": [
    "fifth = pd.read_excel(\"5th Result.xlsx\")\n",
    "fifth = fifth\n",
    "fifth = fifth.drop(['SL No.' , 'Regi', 'PCGPA', 'PCCH', 'CCH', 'Earned Cr', 'REMARKS'] ,axis=1)"
   ],
   "metadata": {
    "collapsed": false
   }
  },
  {
   "cell_type": "code",
   "execution_count": null,
   "outputs": [],
   "source": [
    "data = pd.read_excel(\"6th result.xlsx\")\n",
    "data\n",
    "top  = data.sort_values(by = 'CGPA',ascending=False)\n",
    "top"
   ],
   "metadata": {
    "collapsed": false
   }
  },
  {
   "cell_type": "code",
   "execution_count": null,
   "outputs": [],
   "source": [
    "top  = data.sort_values(by = 'CGPA',ascending=False)\n",
    "topper = sns.barplot(top.head(16),x='Student Name',y='CGPA')\n",
    "topper.set_xticklabels(topper.get_xticklabels(), rotation=40, ha=\"right\")\n",
    "plt.title(\"Batch Topper\")\n",
    "plt.show()"
   ],
   "metadata": {
    "collapsed": false
   }
  },
  {
   "cell_type": "code",
   "execution_count": null,
   "outputs": [],
   "source": [
    "top_6th  = data.sort_values(by = 'GPA',ascending=False)\n",
    "sixth = sns.barplot(top_6th.head(13),x='Student Name',y='GPA')\n",
    "sixth.set_xticklabels(sixth.get_xticklabels(), rotation=40, ha=\"right\")\n",
    "plt.title(\"6th semester Topper\")\n",
    "plt.show()"
   ],
   "metadata": {
    "collapsed": false
   }
  },
  {
   "cell_type": "code",
   "execution_count": null,
   "outputs": [],
   "source": [
    "dif = data[['Roll','Student Name','GPA','PCGPA','CGPA']]\n",
    "dif['inc'] = dif.CGPA-dif.PCGPA\n",
    "dif"
   ],
   "metadata": {
    "collapsed": false
   }
  },
  {
   "cell_type": "code",
   "execution_count": null,
   "outputs": [],
   "source": [
    "\n",
    "dif  = dif.sort_values(by = 'inc',ascending=True)\n",
    "jump = sns.barplot(dif.head(10),x='Student Name',y='inc')\n",
    "jump.set_xticklabels(jump.get_xticklabels(), rotation=40, ha=\"right\")\n",
    "plt.title(\"Top Changes CGPA in 6th Semester\")\n",
    "plt.ylabel(\"Change in CGPA\")\n",
    "plt.show()\n",
    "dif\n",
    "dif['4th'] = None\n",
    "dif['3rd'] = None\n",
    "dif['2nd'] = None\n",
    "\n",
    "dif"
   ],
   "metadata": {
    "collapsed": false
   }
  },
  {
   "cell_type": "code",
   "execution_count": null,
   "outputs": [],
   "source": [
    "dif.Roll"
   ],
   "metadata": {
    "collapsed": false
   }
  },
  {
   "cell_type": "code",
   "execution_count": null,
   "outputs": [],
   "source": [
    "dif = dif[dif['Roll']>1802000]\n",
    "roll = np.array(dif.Roll)\n",
    "for id in roll:\n",
    "    sheet = dif[dif.Roll == id]\n",
    "    sec = second[second.Roll==id]\n",
    "    thi = third[third.Roll==id]\n",
    "    four = fourth[fourth.Roll==id]\n",
    "    sheet['2nd'] = sec['GPA']\n",
    "    sheet['3rd'] = thi['GPA']\n",
    "    sheet['4th'] = four['GPA']\n",
    "    dif[dif.Roll == id] = sheet\n",
    "dif\n"
   ],
   "metadata": {
    "collapsed": false
   }
  },
  {
   "cell_type": "code",
   "execution_count": 5,
   "outputs": [
    {
     "data": {
      "text/plain": "       Roll              Student Name    2nd    3rd    4th    5th    6th  \\\n14  1802021               ANIK BISWAS  3.729  3.893  3.714  3.871  3.914   \n17  1802025         MALIHA AFROJ ORNA  3.512  3.714  3.500  3.767  3.862   \n3   1802009       MD. SHAHRIAR RAHMAN  3.512  3.482  3.357  3.724  3.845   \n8   1802014         MD. TASNIF RAHMAN  2.910  3.643  3.607  3.586  3.836   \n21  1802030              NAZMUL HASAN  3.521  3.625  3.571  3.784  3.819   \n51  1802071         SADIA ZANNAT REEM  4.000  3.607  3.661  3.810  3.707   \n40  1802054           MD. TAHSIN AMIN  3.268  3.625  3.589  3.828  3.707   \n35  1802048          MD. JAMIUL HAQUE  2.792  3.339  3.214  3.500  3.698   \n41  1802055                RUHIT SHAH  2.657  3.429  3.661  3.724  3.681   \n53  1802073         MD. RAKIBUL ISLAM  3.030  3.786  3.536  3.672  3.638   \n18  1802026              LAMIA FATIHA  3.277  3.446  3.696  3.767  3.586   \n46  1802064       RAKIBUL HASAN SEZAN  2.947  3.536  3.518  3.629  3.509   \n33  1802042              MD. RONY MIR  3.084  3.643  3.268  3.603  3.500   \n36  1802049             FARIHA AKTHER  2.922  3.232  3.304  3.483  3.474   \n19  1802027           MD. BABUL HASAN  3.243  3.321  3.304  3.250  3.474   \n38  1802052        MEHEDI HASAN RABBI  3.145  3.696  3.696  3.672  3.448   \n31  1802040                NIPA AKTER  2.967  3.482  3.571  3.216  3.405   \n16  1802024               ALI HOSSAIN  2.856  3.107  3.214  3.172  3.397   \n25  1802034       MUHAMMAD AL-MUZAHID  3.027  3.821  3.643  3.621  3.353   \n22  1802031             FARZANA AKTAR  3.298  3.500  3.250  3.293  3.328   \n5   1802011        MOLLA TAMZID ISLAM  2.617  3.179  2.893  3.147  3.319   \n15  1802023             HASAN MORSHED  2.759  3.214  3.179  3.302  3.267   \n50  1802069              ARJON GOLDER  2.831  3.625  3.321  3.483  3.250   \n47  1802065          MD. SAIFUL ISLAM  2.726  3.018  3.107  3.405  3.250   \n9   1802015      AYESHA SIDDIKA MUKTA  3.331  3.500  3.679  3.259  3.233   \n13  1802019              KAMRUN NAHAR  3.343  3.589  3.339  3.483  3.216   \n6   1802012         SHARMISTHA SARKAR  2.916  3.214  3.071  3.017  3.207   \n52  1802072    S.M. ASADUZZAMAN SUMON  3.127  3.607  3.143  3.319  3.198   \n1   1802007     A.B.M. SHIFAR EMTIOUS  2.954  3.375  2.979  3.043  3.181   \n23  1802032         MD. JAHIDUL ISLAM  2.969  3.339  3.232  3.276  3.155   \n10  1802016      TAMANNA AKTER SONALY  3.178  2.982  3.161  2.922  3.130   \n29  1802038       TAHMIDUR RAHMAN TAJ  2.753  3.554  3.304  3.138  3.112   \n49  1802068    FATEMA FERDOUS TAMANNA  3.172  3.054  3.107  2.991  3.112   \n30  1802039         HAMID MAHTAB IMAD  2.958  2.786  2.964  2.896  3.100   \n28  1802037                PARTHA DAS  3.036  3.038  3.023  2.880  3.000   \n20  1802028    SHAMSUL KARIM MAZUMDER  2.820  3.042  3.054  3.078  2.948   \n48  1802066              ABHISHEK DAS  2.560  2.923  2.696  3.000  2.931   \n26  1802035           MD. MAHDI HASAN  2.304  3.167  2.813  2.976  2.926   \n32  1802041              ABDUR RAHMAN  2.511  3.250  2.786  2.966  2.922   \n43  1802061      MISKATUL JANNAT MEEM  2.950  2.607  2.900  2.625  2.868   \n0   1802001       SHYAM SUNDER MONDAL  2.595  2.714  2.521  2.888  2.828   \n45  1802063                 MD. RAKIB  2.645  2.839  2.696  3.138  2.810   \n11  1802017        MD. IMDUD-UL-HAQUE  2.838  2.696  2.786  2.793  2.810   \n4   1802010              EPON CHANDRA  2.596  2.750  2.542  2.610  2.780   \n27  1802036  MD. MOSIUR RAHMAN SHEFAT  2.557  3.036  2.946  3.095  2.750   \n44  1802062               AMIRUL ALAM  3.011  3.021  3.000  2.938  2.737   \n34  1802045              TAHMID AHNAF  2.672  3.179  3.018  2.740  2.716   \n42  1802059               SIFATUL HUQ  3.085  3.446  2.625  3.238  2.691   \n2   1802008           MD. FOZLE RABBI  2.492  2.875  2.875  2.554  2.667   \n37  1802050              SABUJ SARKER  2.566  2.893  3.159  2.940  2.664   \n7   1802013               MAHFUZ TAIM  2.822  3.196  3.167  3.103  2.660   \n24  1802033   MD. MOHIUDDIN AHMED OMI  2.290  2.857  2.857  2.648  2.640   \n39  1802053         MD. ADNAN HOSSAIN  2.653  2.600  2.417  2.696  2.412   \n12  1802018         SABBIR RASHID MIM  2.593  2.477  2.729  2.470  2.250   \n\n   max_jump  \n14     None  \n17     None  \n3      None  \n8      None  \n21     None  \n51     None  \n40     None  \n35     None  \n41     None  \n53     None  \n18     None  \n46     None  \n33     None  \n36     None  \n19     None  \n38     None  \n31     None  \n16     None  \n25     None  \n22     None  \n5      None  \n15     None  \n50     None  \n47     None  \n9      None  \n13     None  \n6      None  \n52     None  \n1      None  \n23     None  \n10     None  \n29     None  \n49     None  \n30     None  \n28     None  \n20     None  \n48     None  \n26     None  \n32     None  \n43     None  \n0      None  \n45     None  \n11     None  \n4      None  \n27     None  \n44     None  \n34     None  \n42     None  \n2      None  \n37     None  \n7      None  \n24     None  \n39     None  \n12     None  ",
      "text/html": "<div>\n<style scoped>\n    .dataframe tbody tr th:only-of-type {\n        vertical-align: middle;\n    }\n\n    .dataframe tbody tr th {\n        vertical-align: top;\n    }\n\n    .dataframe thead th {\n        text-align: right;\n    }\n</style>\n<table border=\"1\" class=\"dataframe\">\n  <thead>\n    <tr style=\"text-align: right;\">\n      <th></th>\n      <th>Roll</th>\n      <th>Student Name</th>\n      <th>2nd</th>\n      <th>3rd</th>\n      <th>4th</th>\n      <th>5th</th>\n      <th>6th</th>\n      <th>max_jump</th>\n    </tr>\n  </thead>\n  <tbody>\n    <tr>\n      <th>14</th>\n      <td>1802021</td>\n      <td>ANIK BISWAS</td>\n      <td>3.729</td>\n      <td>3.893</td>\n      <td>3.714</td>\n      <td>3.871</td>\n      <td>3.914</td>\n      <td>None</td>\n    </tr>\n    <tr>\n      <th>17</th>\n      <td>1802025</td>\n      <td>MALIHA AFROJ ORNA</td>\n      <td>3.512</td>\n      <td>3.714</td>\n      <td>3.500</td>\n      <td>3.767</td>\n      <td>3.862</td>\n      <td>None</td>\n    </tr>\n    <tr>\n      <th>3</th>\n      <td>1802009</td>\n      <td>MD. SHAHRIAR RAHMAN</td>\n      <td>3.512</td>\n      <td>3.482</td>\n      <td>3.357</td>\n      <td>3.724</td>\n      <td>3.845</td>\n      <td>None</td>\n    </tr>\n    <tr>\n      <th>8</th>\n      <td>1802014</td>\n      <td>MD. TASNIF RAHMAN</td>\n      <td>2.910</td>\n      <td>3.643</td>\n      <td>3.607</td>\n      <td>3.586</td>\n      <td>3.836</td>\n      <td>None</td>\n    </tr>\n    <tr>\n      <th>21</th>\n      <td>1802030</td>\n      <td>NAZMUL HASAN</td>\n      <td>3.521</td>\n      <td>3.625</td>\n      <td>3.571</td>\n      <td>3.784</td>\n      <td>3.819</td>\n      <td>None</td>\n    </tr>\n    <tr>\n      <th>51</th>\n      <td>1802071</td>\n      <td>SADIA ZANNAT REEM</td>\n      <td>4.000</td>\n      <td>3.607</td>\n      <td>3.661</td>\n      <td>3.810</td>\n      <td>3.707</td>\n      <td>None</td>\n    </tr>\n    <tr>\n      <th>40</th>\n      <td>1802054</td>\n      <td>MD. TAHSIN AMIN</td>\n      <td>3.268</td>\n      <td>3.625</td>\n      <td>3.589</td>\n      <td>3.828</td>\n      <td>3.707</td>\n      <td>None</td>\n    </tr>\n    <tr>\n      <th>35</th>\n      <td>1802048</td>\n      <td>MD. JAMIUL HAQUE</td>\n      <td>2.792</td>\n      <td>3.339</td>\n      <td>3.214</td>\n      <td>3.500</td>\n      <td>3.698</td>\n      <td>None</td>\n    </tr>\n    <tr>\n      <th>41</th>\n      <td>1802055</td>\n      <td>RUHIT SHAH</td>\n      <td>2.657</td>\n      <td>3.429</td>\n      <td>3.661</td>\n      <td>3.724</td>\n      <td>3.681</td>\n      <td>None</td>\n    </tr>\n    <tr>\n      <th>53</th>\n      <td>1802073</td>\n      <td>MD. RAKIBUL ISLAM</td>\n      <td>3.030</td>\n      <td>3.786</td>\n      <td>3.536</td>\n      <td>3.672</td>\n      <td>3.638</td>\n      <td>None</td>\n    </tr>\n    <tr>\n      <th>18</th>\n      <td>1802026</td>\n      <td>LAMIA FATIHA</td>\n      <td>3.277</td>\n      <td>3.446</td>\n      <td>3.696</td>\n      <td>3.767</td>\n      <td>3.586</td>\n      <td>None</td>\n    </tr>\n    <tr>\n      <th>46</th>\n      <td>1802064</td>\n      <td>RAKIBUL HASAN SEZAN</td>\n      <td>2.947</td>\n      <td>3.536</td>\n      <td>3.518</td>\n      <td>3.629</td>\n      <td>3.509</td>\n      <td>None</td>\n    </tr>\n    <tr>\n      <th>33</th>\n      <td>1802042</td>\n      <td>MD. RONY MIR</td>\n      <td>3.084</td>\n      <td>3.643</td>\n      <td>3.268</td>\n      <td>3.603</td>\n      <td>3.500</td>\n      <td>None</td>\n    </tr>\n    <tr>\n      <th>36</th>\n      <td>1802049</td>\n      <td>FARIHA AKTHER</td>\n      <td>2.922</td>\n      <td>3.232</td>\n      <td>3.304</td>\n      <td>3.483</td>\n      <td>3.474</td>\n      <td>None</td>\n    </tr>\n    <tr>\n      <th>19</th>\n      <td>1802027</td>\n      <td>MD. BABUL HASAN</td>\n      <td>3.243</td>\n      <td>3.321</td>\n      <td>3.304</td>\n      <td>3.250</td>\n      <td>3.474</td>\n      <td>None</td>\n    </tr>\n    <tr>\n      <th>38</th>\n      <td>1802052</td>\n      <td>MEHEDI HASAN RABBI</td>\n      <td>3.145</td>\n      <td>3.696</td>\n      <td>3.696</td>\n      <td>3.672</td>\n      <td>3.448</td>\n      <td>None</td>\n    </tr>\n    <tr>\n      <th>31</th>\n      <td>1802040</td>\n      <td>NIPA AKTER</td>\n      <td>2.967</td>\n      <td>3.482</td>\n      <td>3.571</td>\n      <td>3.216</td>\n      <td>3.405</td>\n      <td>None</td>\n    </tr>\n    <tr>\n      <th>16</th>\n      <td>1802024</td>\n      <td>ALI HOSSAIN</td>\n      <td>2.856</td>\n      <td>3.107</td>\n      <td>3.214</td>\n      <td>3.172</td>\n      <td>3.397</td>\n      <td>None</td>\n    </tr>\n    <tr>\n      <th>25</th>\n      <td>1802034</td>\n      <td>MUHAMMAD AL-MUZAHID</td>\n      <td>3.027</td>\n      <td>3.821</td>\n      <td>3.643</td>\n      <td>3.621</td>\n      <td>3.353</td>\n      <td>None</td>\n    </tr>\n    <tr>\n      <th>22</th>\n      <td>1802031</td>\n      <td>FARZANA AKTAR</td>\n      <td>3.298</td>\n      <td>3.500</td>\n      <td>3.250</td>\n      <td>3.293</td>\n      <td>3.328</td>\n      <td>None</td>\n    </tr>\n    <tr>\n      <th>5</th>\n      <td>1802011</td>\n      <td>MOLLA TAMZID ISLAM</td>\n      <td>2.617</td>\n      <td>3.179</td>\n      <td>2.893</td>\n      <td>3.147</td>\n      <td>3.319</td>\n      <td>None</td>\n    </tr>\n    <tr>\n      <th>15</th>\n      <td>1802023</td>\n      <td>HASAN MORSHED</td>\n      <td>2.759</td>\n      <td>3.214</td>\n      <td>3.179</td>\n      <td>3.302</td>\n      <td>3.267</td>\n      <td>None</td>\n    </tr>\n    <tr>\n      <th>50</th>\n      <td>1802069</td>\n      <td>ARJON GOLDER</td>\n      <td>2.831</td>\n      <td>3.625</td>\n      <td>3.321</td>\n      <td>3.483</td>\n      <td>3.250</td>\n      <td>None</td>\n    </tr>\n    <tr>\n      <th>47</th>\n      <td>1802065</td>\n      <td>MD. SAIFUL ISLAM</td>\n      <td>2.726</td>\n      <td>3.018</td>\n      <td>3.107</td>\n      <td>3.405</td>\n      <td>3.250</td>\n      <td>None</td>\n    </tr>\n    <tr>\n      <th>9</th>\n      <td>1802015</td>\n      <td>AYESHA SIDDIKA MUKTA</td>\n      <td>3.331</td>\n      <td>3.500</td>\n      <td>3.679</td>\n      <td>3.259</td>\n      <td>3.233</td>\n      <td>None</td>\n    </tr>\n    <tr>\n      <th>13</th>\n      <td>1802019</td>\n      <td>KAMRUN NAHAR</td>\n      <td>3.343</td>\n      <td>3.589</td>\n      <td>3.339</td>\n      <td>3.483</td>\n      <td>3.216</td>\n      <td>None</td>\n    </tr>\n    <tr>\n      <th>6</th>\n      <td>1802012</td>\n      <td>SHARMISTHA SARKAR</td>\n      <td>2.916</td>\n      <td>3.214</td>\n      <td>3.071</td>\n      <td>3.017</td>\n      <td>3.207</td>\n      <td>None</td>\n    </tr>\n    <tr>\n      <th>52</th>\n      <td>1802072</td>\n      <td>S.M. ASADUZZAMAN SUMON</td>\n      <td>3.127</td>\n      <td>3.607</td>\n      <td>3.143</td>\n      <td>3.319</td>\n      <td>3.198</td>\n      <td>None</td>\n    </tr>\n    <tr>\n      <th>1</th>\n      <td>1802007</td>\n      <td>A.B.M. SHIFAR EMTIOUS</td>\n      <td>2.954</td>\n      <td>3.375</td>\n      <td>2.979</td>\n      <td>3.043</td>\n      <td>3.181</td>\n      <td>None</td>\n    </tr>\n    <tr>\n      <th>23</th>\n      <td>1802032</td>\n      <td>MD. JAHIDUL ISLAM</td>\n      <td>2.969</td>\n      <td>3.339</td>\n      <td>3.232</td>\n      <td>3.276</td>\n      <td>3.155</td>\n      <td>None</td>\n    </tr>\n    <tr>\n      <th>10</th>\n      <td>1802016</td>\n      <td>TAMANNA AKTER SONALY</td>\n      <td>3.178</td>\n      <td>2.982</td>\n      <td>3.161</td>\n      <td>2.922</td>\n      <td>3.130</td>\n      <td>None</td>\n    </tr>\n    <tr>\n      <th>29</th>\n      <td>1802038</td>\n      <td>TAHMIDUR RAHMAN TAJ</td>\n      <td>2.753</td>\n      <td>3.554</td>\n      <td>3.304</td>\n      <td>3.138</td>\n      <td>3.112</td>\n      <td>None</td>\n    </tr>\n    <tr>\n      <th>49</th>\n      <td>1802068</td>\n      <td>FATEMA FERDOUS TAMANNA</td>\n      <td>3.172</td>\n      <td>3.054</td>\n      <td>3.107</td>\n      <td>2.991</td>\n      <td>3.112</td>\n      <td>None</td>\n    </tr>\n    <tr>\n      <th>30</th>\n      <td>1802039</td>\n      <td>HAMID MAHTAB IMAD</td>\n      <td>2.958</td>\n      <td>2.786</td>\n      <td>2.964</td>\n      <td>2.896</td>\n      <td>3.100</td>\n      <td>None</td>\n    </tr>\n    <tr>\n      <th>28</th>\n      <td>1802037</td>\n      <td>PARTHA DAS</td>\n      <td>3.036</td>\n      <td>3.038</td>\n      <td>3.023</td>\n      <td>2.880</td>\n      <td>3.000</td>\n      <td>None</td>\n    </tr>\n    <tr>\n      <th>20</th>\n      <td>1802028</td>\n      <td>SHAMSUL KARIM MAZUMDER</td>\n      <td>2.820</td>\n      <td>3.042</td>\n      <td>3.054</td>\n      <td>3.078</td>\n      <td>2.948</td>\n      <td>None</td>\n    </tr>\n    <tr>\n      <th>48</th>\n      <td>1802066</td>\n      <td>ABHISHEK DAS</td>\n      <td>2.560</td>\n      <td>2.923</td>\n      <td>2.696</td>\n      <td>3.000</td>\n      <td>2.931</td>\n      <td>None</td>\n    </tr>\n    <tr>\n      <th>26</th>\n      <td>1802035</td>\n      <td>MD. MAHDI HASAN</td>\n      <td>2.304</td>\n      <td>3.167</td>\n      <td>2.813</td>\n      <td>2.976</td>\n      <td>2.926</td>\n      <td>None</td>\n    </tr>\n    <tr>\n      <th>32</th>\n      <td>1802041</td>\n      <td>ABDUR RAHMAN</td>\n      <td>2.511</td>\n      <td>3.250</td>\n      <td>2.786</td>\n      <td>2.966</td>\n      <td>2.922</td>\n      <td>None</td>\n    </tr>\n    <tr>\n      <th>43</th>\n      <td>1802061</td>\n      <td>MISKATUL JANNAT MEEM</td>\n      <td>2.950</td>\n      <td>2.607</td>\n      <td>2.900</td>\n      <td>2.625</td>\n      <td>2.868</td>\n      <td>None</td>\n    </tr>\n    <tr>\n      <th>0</th>\n      <td>1802001</td>\n      <td>SHYAM SUNDER MONDAL</td>\n      <td>2.595</td>\n      <td>2.714</td>\n      <td>2.521</td>\n      <td>2.888</td>\n      <td>2.828</td>\n      <td>None</td>\n    </tr>\n    <tr>\n      <th>45</th>\n      <td>1802063</td>\n      <td>MD. RAKIB</td>\n      <td>2.645</td>\n      <td>2.839</td>\n      <td>2.696</td>\n      <td>3.138</td>\n      <td>2.810</td>\n      <td>None</td>\n    </tr>\n    <tr>\n      <th>11</th>\n      <td>1802017</td>\n      <td>MD. IMDUD-UL-HAQUE</td>\n      <td>2.838</td>\n      <td>2.696</td>\n      <td>2.786</td>\n      <td>2.793</td>\n      <td>2.810</td>\n      <td>None</td>\n    </tr>\n    <tr>\n      <th>4</th>\n      <td>1802010</td>\n      <td>EPON CHANDRA</td>\n      <td>2.596</td>\n      <td>2.750</td>\n      <td>2.542</td>\n      <td>2.610</td>\n      <td>2.780</td>\n      <td>None</td>\n    </tr>\n    <tr>\n      <th>27</th>\n      <td>1802036</td>\n      <td>MD. MOSIUR RAHMAN SHEFAT</td>\n      <td>2.557</td>\n      <td>3.036</td>\n      <td>2.946</td>\n      <td>3.095</td>\n      <td>2.750</td>\n      <td>None</td>\n    </tr>\n    <tr>\n      <th>44</th>\n      <td>1802062</td>\n      <td>AMIRUL ALAM</td>\n      <td>3.011</td>\n      <td>3.021</td>\n      <td>3.000</td>\n      <td>2.938</td>\n      <td>2.737</td>\n      <td>None</td>\n    </tr>\n    <tr>\n      <th>34</th>\n      <td>1802045</td>\n      <td>TAHMID AHNAF</td>\n      <td>2.672</td>\n      <td>3.179</td>\n      <td>3.018</td>\n      <td>2.740</td>\n      <td>2.716</td>\n      <td>None</td>\n    </tr>\n    <tr>\n      <th>42</th>\n      <td>1802059</td>\n      <td>SIFATUL HUQ</td>\n      <td>3.085</td>\n      <td>3.446</td>\n      <td>2.625</td>\n      <td>3.238</td>\n      <td>2.691</td>\n      <td>None</td>\n    </tr>\n    <tr>\n      <th>2</th>\n      <td>1802008</td>\n      <td>MD. FOZLE RABBI</td>\n      <td>2.492</td>\n      <td>2.875</td>\n      <td>2.875</td>\n      <td>2.554</td>\n      <td>2.667</td>\n      <td>None</td>\n    </tr>\n    <tr>\n      <th>37</th>\n      <td>1802050</td>\n      <td>SABUJ SARKER</td>\n      <td>2.566</td>\n      <td>2.893</td>\n      <td>3.159</td>\n      <td>2.940</td>\n      <td>2.664</td>\n      <td>None</td>\n    </tr>\n    <tr>\n      <th>7</th>\n      <td>1802013</td>\n      <td>MAHFUZ TAIM</td>\n      <td>2.822</td>\n      <td>3.196</td>\n      <td>3.167</td>\n      <td>3.103</td>\n      <td>2.660</td>\n      <td>None</td>\n    </tr>\n    <tr>\n      <th>24</th>\n      <td>1802033</td>\n      <td>MD. MOHIUDDIN AHMED OMI</td>\n      <td>2.290</td>\n      <td>2.857</td>\n      <td>2.857</td>\n      <td>2.648</td>\n      <td>2.640</td>\n      <td>None</td>\n    </tr>\n    <tr>\n      <th>39</th>\n      <td>1802053</td>\n      <td>MD. ADNAN HOSSAIN</td>\n      <td>2.653</td>\n      <td>2.600</td>\n      <td>2.417</td>\n      <td>2.696</td>\n      <td>2.412</td>\n      <td>None</td>\n    </tr>\n    <tr>\n      <th>12</th>\n      <td>1802018</td>\n      <td>SABBIR RASHID MIM</td>\n      <td>2.593</td>\n      <td>2.477</td>\n      <td>2.729</td>\n      <td>2.470</td>\n      <td>2.250</td>\n      <td>None</td>\n    </tr>\n  </tbody>\n</table>\n</div>"
     },
     "execution_count": 5,
     "metadata": {},
     "output_type": "execute_result"
    }
   ],
   "source": [
    "outcome = pd.read_csv(\"Merge all sem.csv\")\n",
    "#outcome.to_csv(\"Outcome.csv\")\n",
    "outcome['max_jump'] = None\n",
    "outcome = outcome.sort_values(by='6th',ascending=False)\n",
    "outcome"
   ],
   "metadata": {
    "collapsed": false,
    "ExecuteTime": {
     "end_time": "2023-09-02T09:51:07.132791400Z",
     "start_time": "2023-09-02T09:51:07.094590Z"
    }
   }
  },
  {
   "cell_type": "code",
   "execution_count": null,
   "outputs": [],
   "source": [
    "six = np.array(outcome['6th'])\n",
    "sns.displot(six, kde=True, bins=10)\n",
    "plt.title(\"6th semester result barplot\")\n",
    "plt.ylabel(\"Number of students\")\n",
    "plt.show()"
   ],
   "metadata": {
    "collapsed": false
   }
  },
  {
   "cell_type": "code",
   "execution_count": null,
   "outputs": [],
   "source": [
    "\n",
    "\n",
    "roll = np.array(outcome.Roll)\n",
    "for id in roll:\n",
    "    i = outcome[outcome['Roll']==id]\n",
    "    ok = np.array([i['2nd'],i['3rd'],i['4th'],i['5th'],i['6th']])\n",
    "    ok = ok.reshape(-1,5)\n",
    "    i.max_jump = (max(ok[0])-min(ok[0]))\n",
    "    outcome[outcome['Roll']==id] = i\n",
    "\n",
    "# outcome = outcome.sort_values(by='max_jump',ascending=False)\n",
    "outcome\n"
   ],
   "metadata": {
    "collapsed": false
   }
  },
  {
   "cell_type": "code",
   "execution_count": null,
   "outputs": [],
   "source": [
    "lg = sns.barplot(outcome.head(11),x='Student Name',y='max_jump')\n",
    "lg.set_xticklabels(lg.get_xticklabels(), rotation=40, ha=\"right\")\n",
    "# plt.title(\"Longest Jump Ever (2nd to 6th)\")\n",
    "plt.title(\"Constant CGPA, top less variate cgpa\")\n",
    "# plt.ylabel(\"Highest GPA - Lowest GPA\")\n",
    "plt.ylabel(\"Change in CGPA\")\n",
    "plt.show()"
   ],
   "metadata": {
    "collapsed": false
   }
  },
  {
   "cell_type": "code",
   "execution_count": null,
   "outputs": [],
   "source": [],
   "metadata": {
    "collapsed": false
   }
  }
 ],
 "metadata": {
  "kernelspec": {
   "display_name": "Python 3",
   "language": "python",
   "name": "python3"
  },
  "language_info": {
   "codemirror_mode": {
    "name": "ipython",
    "version": 2
   },
   "file_extension": ".py",
   "mimetype": "text/x-python",
   "name": "python",
   "nbconvert_exporter": "python",
   "pygments_lexer": "ipython2",
   "version": "2.7.6"
  }
 },
 "nbformat": 4,
 "nbformat_minor": 0
}
