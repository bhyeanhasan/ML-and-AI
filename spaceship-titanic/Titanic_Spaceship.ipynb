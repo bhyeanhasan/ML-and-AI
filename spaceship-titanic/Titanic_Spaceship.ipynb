{
 "cells": [
  {
   "cell_type": "code",
   "execution_count": 13,
   "metadata": {
    "collapsed": true
   },
   "outputs": [],
   "source": [
    "import pandas as pd\n",
    "import numpy as np\n",
    "from sklearn.preprocessing import LabelEncoder"
   ]
  },
  {
   "cell_type": "code",
   "execution_count": 14,
   "outputs": [
    {
     "data": {
      "text/plain": "  PassengerId HomePlanet CryoSleep  Cabin    Destination   Age    VIP  \\\n0     0001_01     Europa     False  B/0/P    TRAPPIST-1e  39.0  False   \n1     0002_01      Earth     False  F/0/S    TRAPPIST-1e  24.0  False   \n2     0003_01     Europa     False  A/0/S    TRAPPIST-1e  58.0   True   \n3     0003_02     Europa     False  A/0/S    TRAPPIST-1e  33.0  False   \n4     0004_01      Earth     False  F/1/S    TRAPPIST-1e  16.0  False   \n5     0005_01      Earth     False  F/0/P  PSO J318.5-22  44.0  False   \n6     0006_01      Earth     False  F/2/S    TRAPPIST-1e  26.0  False   \n7     0006_02      Earth      True  G/0/S    TRAPPIST-1e  28.0  False   \n8     0007_01      Earth     False  F/3/S    TRAPPIST-1e  35.0  False   \n9     0008_01     Europa      True  B/1/P    55 Cancri e  14.0  False   \n\n   RoomService  FoodCourt  ShoppingMall     Spa  VRDeck                Name  \\\n0          0.0        0.0           0.0     0.0     0.0     Maham Ofracculy   \n1        109.0        9.0          25.0   549.0    44.0        Juanna Vines   \n2         43.0     3576.0           0.0  6715.0    49.0       Altark Susent   \n3          0.0     1283.0         371.0  3329.0   193.0        Solam Susent   \n4        303.0       70.0         151.0   565.0     2.0   Willy Santantines   \n5          0.0      483.0           0.0   291.0     0.0   Sandie Hinetthews   \n6         42.0     1539.0           3.0     0.0     0.0  Billex Jacostaffey   \n7          0.0        0.0           0.0     0.0     NaN  Candra Jacostaffey   \n8          0.0      785.0          17.0   216.0     0.0       Andona Beston   \n9          0.0        0.0           0.0     0.0     0.0      Erraiam Flatic   \n\n   Transported  \n0        False  \n1         True  \n2        False  \n3        False  \n4         True  \n5         True  \n6         True  \n7         True  \n8         True  \n9         True  ",
      "text/html": "<div>\n<style scoped>\n    .dataframe tbody tr th:only-of-type {\n        vertical-align: middle;\n    }\n\n    .dataframe tbody tr th {\n        vertical-align: top;\n    }\n\n    .dataframe thead th {\n        text-align: right;\n    }\n</style>\n<table border=\"1\" class=\"dataframe\">\n  <thead>\n    <tr style=\"text-align: right;\">\n      <th></th>\n      <th>PassengerId</th>\n      <th>HomePlanet</th>\n      <th>CryoSleep</th>\n      <th>Cabin</th>\n      <th>Destination</th>\n      <th>Age</th>\n      <th>VIP</th>\n      <th>RoomService</th>\n      <th>FoodCourt</th>\n      <th>ShoppingMall</th>\n      <th>Spa</th>\n      <th>VRDeck</th>\n      <th>Name</th>\n      <th>Transported</th>\n    </tr>\n  </thead>\n  <tbody>\n    <tr>\n      <th>0</th>\n      <td>0001_01</td>\n      <td>Europa</td>\n      <td>False</td>\n      <td>B/0/P</td>\n      <td>TRAPPIST-1e</td>\n      <td>39.0</td>\n      <td>False</td>\n      <td>0.0</td>\n      <td>0.0</td>\n      <td>0.0</td>\n      <td>0.0</td>\n      <td>0.0</td>\n      <td>Maham Ofracculy</td>\n      <td>False</td>\n    </tr>\n    <tr>\n      <th>1</th>\n      <td>0002_01</td>\n      <td>Earth</td>\n      <td>False</td>\n      <td>F/0/S</td>\n      <td>TRAPPIST-1e</td>\n      <td>24.0</td>\n      <td>False</td>\n      <td>109.0</td>\n      <td>9.0</td>\n      <td>25.0</td>\n      <td>549.0</td>\n      <td>44.0</td>\n      <td>Juanna Vines</td>\n      <td>True</td>\n    </tr>\n    <tr>\n      <th>2</th>\n      <td>0003_01</td>\n      <td>Europa</td>\n      <td>False</td>\n      <td>A/0/S</td>\n      <td>TRAPPIST-1e</td>\n      <td>58.0</td>\n      <td>True</td>\n      <td>43.0</td>\n      <td>3576.0</td>\n      <td>0.0</td>\n      <td>6715.0</td>\n      <td>49.0</td>\n      <td>Altark Susent</td>\n      <td>False</td>\n    </tr>\n    <tr>\n      <th>3</th>\n      <td>0003_02</td>\n      <td>Europa</td>\n      <td>False</td>\n      <td>A/0/S</td>\n      <td>TRAPPIST-1e</td>\n      <td>33.0</td>\n      <td>False</td>\n      <td>0.0</td>\n      <td>1283.0</td>\n      <td>371.0</td>\n      <td>3329.0</td>\n      <td>193.0</td>\n      <td>Solam Susent</td>\n      <td>False</td>\n    </tr>\n    <tr>\n      <th>4</th>\n      <td>0004_01</td>\n      <td>Earth</td>\n      <td>False</td>\n      <td>F/1/S</td>\n      <td>TRAPPIST-1e</td>\n      <td>16.0</td>\n      <td>False</td>\n      <td>303.0</td>\n      <td>70.0</td>\n      <td>151.0</td>\n      <td>565.0</td>\n      <td>2.0</td>\n      <td>Willy Santantines</td>\n      <td>True</td>\n    </tr>\n    <tr>\n      <th>5</th>\n      <td>0005_01</td>\n      <td>Earth</td>\n      <td>False</td>\n      <td>F/0/P</td>\n      <td>PSO J318.5-22</td>\n      <td>44.0</td>\n      <td>False</td>\n      <td>0.0</td>\n      <td>483.0</td>\n      <td>0.0</td>\n      <td>291.0</td>\n      <td>0.0</td>\n      <td>Sandie Hinetthews</td>\n      <td>True</td>\n    </tr>\n    <tr>\n      <th>6</th>\n      <td>0006_01</td>\n      <td>Earth</td>\n      <td>False</td>\n      <td>F/2/S</td>\n      <td>TRAPPIST-1e</td>\n      <td>26.0</td>\n      <td>False</td>\n      <td>42.0</td>\n      <td>1539.0</td>\n      <td>3.0</td>\n      <td>0.0</td>\n      <td>0.0</td>\n      <td>Billex Jacostaffey</td>\n      <td>True</td>\n    </tr>\n    <tr>\n      <th>7</th>\n      <td>0006_02</td>\n      <td>Earth</td>\n      <td>True</td>\n      <td>G/0/S</td>\n      <td>TRAPPIST-1e</td>\n      <td>28.0</td>\n      <td>False</td>\n      <td>0.0</td>\n      <td>0.0</td>\n      <td>0.0</td>\n      <td>0.0</td>\n      <td>NaN</td>\n      <td>Candra Jacostaffey</td>\n      <td>True</td>\n    </tr>\n    <tr>\n      <th>8</th>\n      <td>0007_01</td>\n      <td>Earth</td>\n      <td>False</td>\n      <td>F/3/S</td>\n      <td>TRAPPIST-1e</td>\n      <td>35.0</td>\n      <td>False</td>\n      <td>0.0</td>\n      <td>785.0</td>\n      <td>17.0</td>\n      <td>216.0</td>\n      <td>0.0</td>\n      <td>Andona Beston</td>\n      <td>True</td>\n    </tr>\n    <tr>\n      <th>9</th>\n      <td>0008_01</td>\n      <td>Europa</td>\n      <td>True</td>\n      <td>B/1/P</td>\n      <td>55 Cancri e</td>\n      <td>14.0</td>\n      <td>False</td>\n      <td>0.0</td>\n      <td>0.0</td>\n      <td>0.0</td>\n      <td>0.0</td>\n      <td>0.0</td>\n      <td>Erraiam Flatic</td>\n      <td>True</td>\n    </tr>\n  </tbody>\n</table>\n</div>"
     },
     "execution_count": 14,
     "metadata": {},
     "output_type": "execute_result"
    }
   ],
   "source": [
    "space_data = pd.read_csv(\"train.csv\")\n",
    "data = space_data\n",
    "data.head(10)\n"
   ],
   "metadata": {
    "collapsed": false
   }
  },
  {
   "cell_type": "code",
   "execution_count": 15,
   "outputs": [
    {
     "data": {
      "text/plain": "Index(['PassengerId', 'HomePlanet', 'CryoSleep', 'Cabin', 'Destination', 'Age',\n       'VIP', 'RoomService', 'FoodCourt', 'ShoppingMall', 'Spa', 'VRDeck',\n       'Name', 'Transported'],\n      dtype='object')"
     },
     "execution_count": 15,
     "metadata": {},
     "output_type": "execute_result"
    }
   ],
   "source": [
    "data.columns"
   ],
   "metadata": {
    "collapsed": false
   }
  },
  {
   "cell_type": "code",
   "execution_count": 16,
   "outputs": [
    {
     "data": {
      "text/plain": "Transported  False  True\nAge                     \n0.0             34   144\n1.0             18    49\n2.0             22    53\n3.0             16    59\n4.0             18    53\n...            ...   ...\n75.0             2     2\n76.0             1     1\n77.0             1     1\n78.0             2     1\n79.0             3     0\n\n[80 rows x 2 columns]",
      "text/html": "<div>\n<style scoped>\n    .dataframe tbody tr th:only-of-type {\n        vertical-align: middle;\n    }\n\n    .dataframe tbody tr th {\n        vertical-align: top;\n    }\n\n    .dataframe thead th {\n        text-align: right;\n    }\n</style>\n<table border=\"1\" class=\"dataframe\">\n  <thead>\n    <tr style=\"text-align: right;\">\n      <th>Transported</th>\n      <th>False</th>\n      <th>True</th>\n    </tr>\n    <tr>\n      <th>Age</th>\n      <th></th>\n      <th></th>\n    </tr>\n  </thead>\n  <tbody>\n    <tr>\n      <th>0.0</th>\n      <td>34</td>\n      <td>144</td>\n    </tr>\n    <tr>\n      <th>1.0</th>\n      <td>18</td>\n      <td>49</td>\n    </tr>\n    <tr>\n      <th>2.0</th>\n      <td>22</td>\n      <td>53</td>\n    </tr>\n    <tr>\n      <th>3.0</th>\n      <td>16</td>\n      <td>59</td>\n    </tr>\n    <tr>\n      <th>4.0</th>\n      <td>18</td>\n      <td>53</td>\n    </tr>\n    <tr>\n      <th>...</th>\n      <td>...</td>\n      <td>...</td>\n    </tr>\n    <tr>\n      <th>75.0</th>\n      <td>2</td>\n      <td>2</td>\n    </tr>\n    <tr>\n      <th>76.0</th>\n      <td>1</td>\n      <td>1</td>\n    </tr>\n    <tr>\n      <th>77.0</th>\n      <td>1</td>\n      <td>1</td>\n    </tr>\n    <tr>\n      <th>78.0</th>\n      <td>2</td>\n      <td>1</td>\n    </tr>\n    <tr>\n      <th>79.0</th>\n      <td>3</td>\n      <td>0</td>\n    </tr>\n  </tbody>\n</table>\n<p>80 rows × 2 columns</p>\n</div>"
     },
     "execution_count": 16,
     "metadata": {},
     "output_type": "execute_result"
    }
   ],
   "source": [
    "pd.crosstab(data.Age,data.Transported)"
   ],
   "metadata": {
    "collapsed": false
   }
  },
  {
   "cell_type": "code",
   "execution_count": 17,
   "outputs": [
    {
     "data": {
      "text/plain": "array([False,  True])"
     },
     "execution_count": 17,
     "metadata": {},
     "output_type": "execute_result"
    }
   ],
   "source": [
    "data.Transported.unique()"
   ],
   "metadata": {
    "collapsed": false
   }
  },
  {
   "cell_type": "code",
   "execution_count": 19,
   "outputs": [
    {
     "data": {
      "text/plain": "array([0, 1], dtype=int64)"
     },
     "execution_count": 19,
     "metadata": {},
     "output_type": "execute_result"
    }
   ],
   "source": [
    "data.Transported = LabelEncoder().fit_transform(data.Transported)\n",
    "data.Transported.unique()"
   ],
   "metadata": {
    "collapsed": false
   }
  },
  {
   "cell_type": "code",
   "execution_count": 25,
   "outputs": [
    {
     "data": {
      "text/plain": "0    5439\n1    3037\n2     217\nName: CryoSleep, dtype: int64"
     },
     "execution_count": 25,
     "metadata": {},
     "output_type": "execute_result"
    }
   ],
   "source": [
    "data.CryoSleep.unique()\n",
    "data.CryoSleep.value_counts()"
   ],
   "metadata": {
    "collapsed": false
   }
  },
  {
   "cell_type": "code",
   "execution_count": 27,
   "outputs": [
    {
     "data": {
      "text/plain": "array([0, 1, 2], dtype=int64)"
     },
     "execution_count": 27,
     "metadata": {},
     "output_type": "execute_result"
    }
   ],
   "source": [
    "data.CryoSleep = LabelEncoder().fit_transform(data.CryoSleep)\n",
    "data.CryoSleep.unique()"
   ],
   "metadata": {
    "collapsed": false
   }
  },
  {
   "cell_type": "code",
   "execution_count": null,
   "outputs": [],
   "source": [],
   "metadata": {
    "collapsed": false
   }
  }
 ],
 "metadata": {
  "kernelspec": {
   "display_name": "Python 3",
   "language": "python",
   "name": "python3"
  },
  "language_info": {
   "codemirror_mode": {
    "name": "ipython",
    "version": 2
   },
   "file_extension": ".py",
   "mimetype": "text/x-python",
   "name": "python",
   "nbconvert_exporter": "python",
   "pygments_lexer": "ipython2",
   "version": "2.7.6"
  }
 },
 "nbformat": 4,
 "nbformat_minor": 0
}
